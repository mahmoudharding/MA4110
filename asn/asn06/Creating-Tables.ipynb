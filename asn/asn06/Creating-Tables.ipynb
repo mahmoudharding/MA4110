{
 "cells": [
  {
   "cell_type": "markdown",
   "metadata": {},
   "source": [
    "# Creating Tables"
   ]
  },
  {
   "cell_type": "code",
   "execution_count": null,
   "metadata": {},
   "outputs": [],
   "source": [
    "import warnings\n",
    "warnings.filterwarnings(\"ignore\", message=\"The 'warn' parameter of\")\n",
    "\n",
    "from datascience import *"
   ]
  },
  {
   "cell_type": "code",
   "execution_count": null,
   "metadata": {},
   "outputs": [],
   "source": [
    "# Get data file from a url and store in a Table\n",
    "url_1 = 'https://raw.githubusercontent.com/data-8/textbook/gh-pages/data/minard.csv'"
   ]
  },
  {
   "cell_type": "markdown",
   "metadata": {},
   "source": [
    "**Question 1.** You can use the `.column()` method to select a column from a table as an array. Once you have an array in Python, you can use many of the familiar numerical operations we've already learned, such as `sum()`, `min()`, and `max()`, as well as operations such as additional, subtraction, multiplication, and division.\n",
    "\n",
    "Use these operations to select the `Latitude` column as an array and determine the smallest value in that array.\n",
    "\n",
    "**Note:** There are two ways to use the `.column()` method. You can input the column label or it's position in the table. Python counts starting at 0, so `Longitude` is in position 0, `Latitude` in position 1, `City` in position 2, and so on. It's usually easier to use the label, but there are certain situations where using the position will be easier.\n",
    "\n",
    "Use these operations to select the `Latitude` column as an array and determine the smallest value in the array."
   ]
  },
  {
   "cell_type": "code",
   "execution_count": null,
   "metadata": {},
   "outputs": [],
   "source": [
    "# Question 1."
   ]
  },
  {
   "cell_type": "markdown",
   "metadata": {},
   "source": [
    "**Question 2.** Since this data is already sorted by `Survivors`, let's select that column as an array,\n",
    "and select the first item in that array. You can use the `.item()` method to select a value from an array by passing into `.item()` the position of the value in the array you wish to select. For example, `<array>.item(0)` will return the value in the first position of the array it's appended to `<array>.item(1)` will return the value in the second position and so on.\n",
    "    \n",
    "Assign this value to the name `initial_size` since it represents the starting population in our subset of data."
   ]
  },
  {
   "cell_type": "code",
   "execution_count": null,
   "metadata": {},
   "outputs": [],
   "source": [
    "# Question 2."
   ]
  },
  {
   "cell_type": "markdown",
   "metadata": {},
   "source": [
    "**Question 3.** Notice that the original table has the Survivors listed as a count. To really illustrate the devastation that the cold weather had on the troops it may be more impactful to indicate this as a percentage. To calculate survivors as a percentage, select the `Survivors` column as an array, and divide it by the initial size. Remember, when you divide an array by a number it will divide every element in that array by that number.\n",
    "\n",
    "Assign this new array to the name `survivors_as_percentage`."
   ]
  },
  {
   "cell_type": "code",
   "execution_count": null,
   "metadata": {},
   "outputs": [],
   "source": [
    "# Question 3."
   ]
  },
  {
   "cell_type": "markdown",
   "metadata": {},
   "source": [
    "**Question 4.** Next, let's create a new table that has all the same information as the original table, but also contains this new array of values. Remember, a table is just a collection of arrays that have labels, so we can just add one more to an existing table to make a brand new table. Use the `.with_column()` method on the existing table, `minard`, to create a new table that contains a column labeld `Percent Surviving` that contains the array `survivors_as_percentage`.\n",
    "\n",
    "Name this new `table_with_percentages`."
   ]
  },
  {
   "cell_type": "code",
   "execution_count": null,
   "metadata": {},
   "outputs": [],
   "source": [
    "# Question 4."
   ]
  },
  {
   "cell_type": "markdown",
   "metadata": {},
   "source": [
    "**Question 5.** Lastly, you'll notice that this column of percentages is displayed as a fraction of the number 1. Sometimes that's exactly what we want, but other times we'd rather have 0.47 displayed as 47%. To do so, you can use the `.set_format()` method to have Python display values in a column in a particular way. The `.set_format()` method takes in two arguments, the label of the column you wish to format and then the format selector.\n",
    "\n",
    "Valid options are `NumberFormatter` and `PercentFormatter`.\n",
    "\n",
    "`.with_percentages.set_format('Survivors', NumberFormatter)`\n",
    "\n",
    "By denoting that the column labeled `Survivors` was a number (either `float` or `int`), the values are formatted using commas in the appropriate places. Formatting a float as a number will also result in only two digits after the decimal point being displayed.\n",
    "\n",
    "**Note:** Setting the format on a table is persistent, meaning that the formatting option will remain every time the table is displayed afterwards, even without specifying the format again.\n",
    "\n",
    "Set the column labeled `Percent Surviving` as a percentage."
   ]
  },
  {
   "cell_type": "code",
   "execution_count": null,
   "metadata": {},
   "outputs": [],
   "source": [
    "# Question 5."
   ]
  }
 ],
 "metadata": {
  "kernelspec": {
   "display_name": "Python 3",
   "language": "python",
   "name": "python3"
  },
  "language_info": {
   "codemirror_mode": {
    "name": "ipython",
    "version": 3
   },
   "file_extension": ".py",
   "mimetype": "text/x-python",
   "name": "python",
   "nbconvert_exporter": "python",
   "pygments_lexer": "ipython3",
   "version": "3.8.5"
  }
 },
 "nbformat": 4,
 "nbformat_minor": 4
}
