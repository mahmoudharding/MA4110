{
 "cells": [
  {
   "cell_type": "markdown",
   "metadata": {},
   "source": [
    "# Assignment 9 [Condtional Statements and Iteration]"
   ]
  },
  {
   "cell_type": "code",
   "execution_count": 1,
   "metadata": {},
   "outputs": [],
   "source": [
    "import math\n",
    "import numpy as np\n",
    "from datascience import *"
   ]
  },
  {
   "cell_type": "markdown",
   "metadata": {},
   "source": [
    "**Question 1.** Write a `for` loop that takes in the values from the array `h_values` and returns the approximate value of the derivative of a function at a specific $x$ value. \n",
    "\n",
    "Write a function that named `df` that returns the value from the function $f(x)=e^x$.\n",
    "\n",
    "**Hint:** The array `h_values` should contain $-0.1, -0.01, -0.001,-0.0001, 0.0001, 0.001, 0.01, 0.1$. \n",
    "\n",
    "```\n",
    "def df(x):\n",
    "    return function_expression\n",
    "```\n",
    "\n",
    "**Hint:** Recall that the finite difference formula is given by $\\frac{f(x+h) - f(x)}{h}$."
   ]
  },
  {
   "cell_type": "code",
   "execution_count": 2,
   "metadata": {},
   "outputs": [],
   "source": [
    "# Question 1"
   ]
  },
  {
   "cell_type": "markdown",
   "metadata": {},
   "source": [
    "## Looping\n",
    "For many applications, we will want to create a loop. The range function allows us to loop through a given amount of times easily.\n",
    "\n",
    "**Question 2:** Print the numbers between 0 and 10 inclusively."
   ]
  },
  {
   "cell_type": "code",
   "execution_count": 3,
   "metadata": {},
   "outputs": [],
   "source": [
    "# Question 2"
   ]
  },
  {
   "cell_type": "markdown",
   "metadata": {},
   "source": [
    "**Question 3:** Print the numbers between 0 and 10 inclusively in descending order."
   ]
  },
  {
   "cell_type": "code",
   "execution_count": 4,
   "metadata": {},
   "outputs": [],
   "source": [
    "# Question 3"
   ]
  },
  {
   "cell_type": "markdown",
   "metadata": {},
   "source": [
    "**Question 4:** Create a function called `even` that prints all even numbers between $m$ and $n$ inclusively.\n",
    "\n",
    "**Hint:** Use the modulo operator to check for divisibility. For more information on the modulo operator [click here](https://www.educative.io/edpresso/what-is-a-modulo-operator-in-python).\n",
    "\n",
    "For example,\n",
    "\n",
    "```\n",
    "even(1, 20)\n",
    "````\n",
    "\n",
    "should return\n",
    "\n",
    "```\n",
    "2\n",
    "4\n",
    "6\n",
    "8\n",
    "10\n",
    "12\n",
    "14\n",
    "16\n",
    "18\n",
    "20\n",
    "```"
   ]
  },
  {
   "cell_type": "code",
   "execution_count": 5,
   "metadata": {},
   "outputs": [],
   "source": [
    "# Question 4"
   ]
  },
  {
   "cell_type": "markdown",
   "metadata": {},
   "source": [
    "**Question 5:** Create a function called `factors` that takes in $m$ and prints out all factors of $m$.\n",
    "\n",
    "For example, \n",
    "\n",
    "```\n",
    "factors(20)\n",
    "````\n",
    "\n",
    "should return\n",
    "\n",
    "```\n",
    "1\n",
    "2\n",
    "4\n",
    "5\n",
    "10\n",
    "20\n",
    "```"
   ]
  },
  {
   "cell_type": "code",
   "execution_count": 6,
   "metadata": {},
   "outputs": [],
   "source": [
    "# Question 5"
   ]
  },
  {
   "cell_type": "markdown",
   "metadata": {},
   "source": [
    "The triangular numbers are created by summing integers. For example, \n",
    "\n",
    "```\n",
    "1 = 1\n",
    "3 = 1 + 2\n",
    "6 = 1 + 2 + 3\n",
    "10 = 1 + 2 + 3 + 4\n",
    "15 = 1 + 2 + 3 + 4 + 5\n",
    "```\n",
    "\n",
    "**Question 6:** Create a function called `triangular` that prints the first $n$ triangulr numbers. \n",
    "\n",
    "**Hint:** Create a variable named `counter` that keeps track of these sums. Initialize it to zero\n",
    "\n",
    "`counter = 0`\n",
    "\n",
    "and then update it to be its previous value plus a new integer.\n",
    "\n",
    "For example, \n",
    "\n",
    "```\n",
    "triangular(5)\n",
    "````\n",
    "\n",
    "should return\n",
    "\n",
    "```\n",
    "1\n",
    "3\n",
    "6\n",
    "10\n",
    "15\n",
    "```"
   ]
  },
  {
   "cell_type": "code",
   "execution_count": 7,
   "metadata": {},
   "outputs": [],
   "source": [
    "# Question 6"
   ]
  },
  {
   "cell_type": "markdown",
   "metadata": {},
   "source": [
    "### Optional Challenge\n",
    "\n",
    "**Question 7.** Write a function named `quad_formula` that takes in `a`, `b`, and `c` and returns the roots of the quadratic equation $ax^2+bx+c=0$ in `f-string` format. Use a conditional statement and the determinant $D=b^2-4ac$ to determine what form to return the roots in. Then, return an `f-string`. \n",
    "\n",
    "Here are some sample outputs:\n",
    "\n",
    "```\n",
    "print(quad_formula(1,-1,-6))\n",
    "print(quad_formula(1,-6,9))\n",
    "print(quad_formula(1,-6,13))\n",
    "````\n",
    "should return:\n",
    "```\n",
    "Your roots are 3.0 and -2.0.\n",
    "Your repeated root is 3.0.\n",
    "Your roots are 3.0+2.0i and 3.0-2.0i.\n",
    "```\n",
    "\n",
    "**Note:** To learn more about `f-string` format [click here](https://docs.python.org/3/tutorial/inputoutput.html).\n",
    "\n",
    "**Hint:** Use the following syntax for your return statements\n",
    "\n",
    "* `return f\"Your roots are {root1} and {root2}.\"`\n",
    "* `return f\"Your repeated root is {root1}.\"`\n",
    "* `return f\"Your roots are {real}+{imaginary}i and {real}-{imaginary}i.\"`"
   ]
  },
  {
   "cell_type": "code",
   "execution_count": 8,
   "metadata": {},
   "outputs": [],
   "source": [
    "# Question 7"
   ]
  }
 ],
 "metadata": {
  "kernelspec": {
   "display_name": "Python 3",
   "language": "python",
   "name": "python3"
  },
  "language_info": {
   "codemirror_mode": {
    "name": "ipython",
    "version": 3
   },
   "file_extension": ".py",
   "mimetype": "text/x-python",
   "name": "python",
   "nbconvert_exporter": "python",
   "pygments_lexer": "ipython3",
   "version": "3.8.5"
  }
 },
 "nbformat": 4,
 "nbformat_minor": 4
}
