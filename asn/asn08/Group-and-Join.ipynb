{
 "cells": [
  {
   "cell_type": "markdown",
   "metadata": {},
   "source": [
    "# Assignment 8 [Group and Join]"
   ]
  },
  {
   "cell_type": "code",
   "execution_count": null,
   "metadata": {},
   "outputs": [],
   "source": [
    "# Just run this cell\n",
    "import warnings\n",
    "warnings.filterwarnings(\"ignore\", message=\"The 'warn' parameter of\")\n",
    "\n",
    "from datascience import *\n",
    "import numpy as np\n",
    "\n",
    "%matplotlib inline\n",
    "import matplotlib.pyplot as plots\n",
    "plots.style.use('fivethirtyeight')"
   ]
  },
  {
   "cell_type": "code",
   "execution_count": null,
   "metadata": {},
   "outputs": [],
   "source": [
    "salesperson = Table(['Salesperson ID', 'Salesperson Name', 'City', 'Commission']).with_rows([\n",
    "    ['5001', 'James Hoog',  'New York', 0.15],\n",
    "    ['5002', 'Nail Knite',  'Paris',    0.13],\n",
    "    ['5005', 'Amoli Alex',  'London',   0.11],\n",
    "    ['5006', 'Mike Lyon',   'Paris',    0.14],\n",
    "    ['5007', 'Adam Plank',  'Rome',     0.13],\n",
    "    ['5003', 'Layla Ahmad', 'San Jose', 0.12]\n",
    "])\n",
    "\n",
    "customer = Table(['Customer ID', 'Customer Name', 'City', 'Grade', 'Salesperson ID']).with_rows([\n",
    "    ['3002', 'Nick Rimando',   'New York',   100, '5001'],\n",
    "    ['3007', 'Brad Davis',     'New York',   200, '5001'],\n",
    "    ['3005', 'Graham Zusi',    'California', 200, '5002'],\n",
    "    ['3008', 'Jilian Green',   'London',     300, '5002'],\n",
    "    ['3004', 'Fabian Johnson', 'Paris',      300, '5006'],\n",
    "    ['3009', 'Gina Cameron',   'Berlin',     100, '5003'],\n",
    "    ['3003', 'Helen Li',       'Moscow',     200, '5007'],\n",
    "    ['3001', 'Corey Jackson',  'London',     200, '5005']\n",
    "])\n",
    "\n",
    "orders = Table(['Order Number', 'Purchase Amount', 'Order Date', 'Customer ID', 'Salesperson ID']).with_rows([\n",
    "    ['70001', '$150.50',   '2019-10-05', '3005', '5002'],\n",
    "    ['70009', '$270.65',   '2019-09-10', '3001', '5005'],\n",
    "    ['70002', '$65.26',    '2019-10-05', '3002', '5001'],\n",
    "    ['70004', '$110.50',   '2019-08-17', '3009', '5003'],\n",
    "    ['70007', '$948.50',   '2019-09-10', '3005', '5002'],\n",
    "    ['70005', '$2,400.60', '2019-07-27', '3007', '5001'],\n",
    "    ['70008', '$5,760.00', '2019-09-10', '3002', '5001'],\n",
    "    ['70010', '$1,983.43', '2019-10-10', '3004', '5006'],\n",
    "    ['70003', '$2,480.40', '2019-10-10', '3009', '5003'],\n",
    "    ['70012', '$250.45',   '2019-06-27', '3008', '5002'],\n",
    "    ['70011', '$75.29',    '2019-08-17', '3003', '5007'],\n",
    "    ['70013', '$3,045.60', '2019-04-25', '3002', '5001']\n",
    "])"
   ]
  },
  {
   "cell_type": "markdown",
   "metadata": {},
   "source": [
    "**Question 1.** Use the `join` method to make the table below."
   ]
  },
  {
   "cell_type": "code",
   "execution_count": null,
   "metadata": {},
   "outputs": [],
   "source": [
    "# Question 1"
   ]
  },
  {
   "cell_type": "markdown",
   "metadata": {},
   "source": [
    "**Question 2.** Use the `join` method to make the table below."
   ]
  },
  {
   "cell_type": "code",
   "execution_count": null,
   "metadata": {},
   "outputs": [],
   "source": [
    "# Question 2"
   ]
  },
  {
   "cell_type": "markdown",
   "metadata": {},
   "source": [
    "**Question 3.** Use the `join` method to make the table below."
   ]
  },
  {
   "cell_type": "code",
   "execution_count": null,
   "metadata": {},
   "outputs": [],
   "source": [
    "# Question 3"
   ]
  },
  {
   "cell_type": "markdown",
   "metadata": {},
   "source": [
    "**Question 4.** Use the `join` method to make the table below.\n",
    "\n",
    "**Note:** Only display the customers whose appointed salesperson gets a commission of more than 12%."
   ]
  },
  {
   "cell_type": "code",
   "execution_count": null,
   "metadata": {},
   "outputs": [],
   "source": [
    "# Question 4"
   ]
  },
  {
   "cell_type": "markdown",
   "metadata": {},
   "source": [
    "**Question 5.** Use the `join` method to make the table below.\n",
    "\n",
    "**Note 1:** Only display the customers whose appointed salesperson lives in a different city.\n",
    "\n",
    "**Note 2:** Relabel the column names to `Customer City` and `Salesperson City`.\n",
    "\n",
    "**Hint 1:** The `.relabled` method allows you to relabel multiple comluns using arrays. For more information on the `.relabled` method [click here](http://data8.org/datascience/_autosummary/datascience.tables.Table.relabeled.html) to look at the documentation.\n",
    "\n",
    "**Hint 2:** `Table.where(column_or_label, value_or_predicate=None, other=None)` returns a new `Table` containing rows where value_or_predicate returns `True` for values in `column_or_label`.\n",
    "\n",
    "**Args:**\n",
    "`column_or_label`: A column of the `Table` either as a label (`str`) or an index (`int`). Can also be an array of booleans; only the rows where the array value is **`True`** are kept."
   ]
  },
  {
   "cell_type": "code",
   "execution_count": null,
   "metadata": {},
   "outputs": [],
   "source": [
    "# Question 5\n"
   ]
  },
  {
   "cell_type": "markdown",
   "metadata": {},
   "source": [
    "**Question 6.** Use the `join` method to make the table below."
   ]
  },
  {
   "cell_type": "code",
   "execution_count": null,
   "metadata": {},
   "outputs": [],
   "source": [
    "# Question 6"
   ]
  },
  {
   "cell_type": "markdown",
   "metadata": {},
   "source": [
    "### Optional Challenge\n",
    "\n",
    "**Question 7.** Use the `join` method to make the table below.\n",
    "\n",
    "**Note 1:** You will need functions to convert the `Purchase Amount` from a string to a number and to calculate the `Commission Earned`.\n",
    "\n",
    "**Hint 1:** You can use the `.apply` method to call a function on each item in an array.\n",
    "\n",
    "**Hint 2:** The `.replace` method to remove characters from any position in a string. For more information on the `.replace` method [click here](http://data8.org/fa19/python-reference.html) to look at the documentation.\n",
    "\n",
    "**Hint 3:** A function can have multiple arguments. Define a function that accepts the purchase amount and the commission percent, then calculates the commission earned.\n",
    "\n",
    "**Hint 4:** The `CurrencyFormatter` will display a `float` with the '\\$' symbol. For more information on `CurrencyFormatter` [click here](http://data8.org/datascience/formats.html) to look at the documentation. "
   ]
  },
  {
   "cell_type": "code",
   "execution_count": null,
   "metadata": {},
   "outputs": [],
   "source": [
    "# Question 7"
   ]
  },
  {
   "cell_type": "markdown",
   "metadata": {},
   "source": [
    "**Question 7.** Use the `join` method to make the table below.\n",
    "\n",
    "**Hint 1:** Use the `np.unique()` function to return the unique elements from the `Salesperson Name` column.\n"
   ]
  },
  {
   "cell_type": "code",
   "execution_count": null,
   "metadata": {},
   "outputs": [],
   "source": [
    "# Question 8"
   ]
  }
 ],
 "metadata": {
  "kernelspec": {
   "display_name": "Python 3",
   "language": "python",
   "name": "python3"
  },
  "language_info": {
   "codemirror_mode": {
    "name": "ipython",
    "version": 3
   },
   "file_extension": ".py",
   "mimetype": "text/x-python",
   "name": "python",
   "nbconvert_exporter": "python",
   "pygments_lexer": "ipython3",
   "version": "3.8.5"
  }
 },
 "nbformat": 4,
 "nbformat_minor": 4
}
