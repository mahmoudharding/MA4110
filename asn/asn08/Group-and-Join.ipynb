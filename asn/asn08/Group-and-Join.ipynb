{
 "cells": [
  {
   "cell_type": "markdown",
   "metadata": {},
   "source": [
    "# Assignment 8 [Group and Join]"
   ]
  },
  {
   "cell_type": "code",
   "execution_count": 1,
   "metadata": {},
   "outputs": [],
   "source": [
    "# Just run this cell\n",
    "import warnings\n",
    "warnings.filterwarnings(\"ignore\", message=\"The 'warn' parameter of\")\n",
    "\n",
    "from datascience import *\n",
    "import numpy as np\n",
    "\n",
    "%matplotlib inline\n",
    "import matplotlib.pyplot as plots\n",
    "plots.style.use('fivethirtyeight')"
   ]
  },
  {
   "cell_type": "code",
   "execution_count": 2,
   "metadata": {},
   "outputs": [],
   "source": [
    "salesperson = Table(['Salesperson ID', 'Salesperson Name', 'City', 'Commission']).with_rows([\n",
    "    ['5001', 'James Hoog',  'New York', 0.15],\n",
    "    ['5002', 'Nail Knite',  'Paris',    0.13],\n",
    "    ['5005', 'Amoli Alex',  'London',   0.11],\n",
    "    ['5006', 'Mike Lyon',   'Paris',    0.14],\n",
    "    ['5007', 'Adam Plank',  'Rome',     0.13],\n",
    "    ['5003', 'Layla Ahmad', 'San Jose', 0.12]\n",
    "])\n",
    "\n",
    "customer = Table(['Customer ID', 'Customer Name', 'City', 'Grade', 'Salesperson ID']).with_rows([\n",
    "    ['3002', 'Nick Rimando',   'New York',   100, '5001'],\n",
    "    ['3007', 'Brad Davis',     'New York',   200, '5001'],\n",
    "    ['3005', 'Graham Zusi',    'California', 200, '5002'],\n",
    "    ['3008', 'Jilian Green',   'London',     300, '5002'],\n",
    "    ['3004', 'Fabian Johnson', 'Paris',      300, '5006'],\n",
    "    ['3009', 'Gina Cameron',   'Berlin',     100, '5003'],\n",
    "    ['3003', 'Helen Li',       'Moscow',     200, '5007'],\n",
    "    ['3001', 'Corey Jackson',  'London',     200, '5005']\n",
    "])\n",
    "\n",
    "orders = Table(['Order Number', 'Purchase Amount', 'Order Date', 'Customer ID', 'Salesperson ID']).with_rows([\n",
    "    ['70001', '$150.50',   '2019-10-05', '3005', '5002'],\n",
    "    ['70009', '$270.65',   '2019-09-10', '3001', '5005'],\n",
    "    ['70002', '$65.26',    '2019-10-05', '3002', '5001'],\n",
    "    ['70004', '$110.50',   '2019-08-17', '3009', '5003'],\n",
    "    ['70007', '$948.50',   '2019-09-10', '3005', '5002'],\n",
    "    ['70005', '$2,400.60', '2019-07-27', '3007', '5001'],\n",
    "    ['70008', '$5,760.00', '2019-09-10', '3002', '5001'],\n",
    "    ['70010', '$1,983.43', '2019-10-10', '3004', '5006'],\n",
    "    ['70003', '$2,480.40', '2019-10-10', '3009', '5003'],\n",
    "    ['70012', '$250.45',   '2019-06-27', '3008', '5002'],\n",
    "    ['70011', '$75.29',    '2019-08-17', '3003', '5007'],\n",
    "    ['70013', '$3,045.60', '2019-04-25', '3002', '5001']\n",
    "])"
   ]
  },
  {
   "cell_type": "markdown",
   "metadata": {},
   "source": [
    "**Question 1.** Use the `join` method to make the table below."
   ]
  },
  {
   "cell_type": "code",
   "execution_count": 3,
   "metadata": {},
   "outputs": [
    {
     "data": {
      "text/html": [
       "<table border=\"1\" class=\"dataframe\">\n",
       "    <thead>\n",
       "        <tr>\n",
       "            <th>Salesperson Name</th> <th>Customer Name</th> <th>City</th>\n",
       "        </tr>\n",
       "    </thead>\n",
       "    <tbody>\n",
       "        <tr>\n",
       "            <td>James Hoog      </td> <td>Nick Rimando  </td> <td>New York</td>\n",
       "        </tr>\n",
       "        <tr>\n",
       "            <td>James Hoog      </td> <td>Brad Davis    </td> <td>New York</td>\n",
       "        </tr>\n",
       "        <tr>\n",
       "            <td>Nail Knite      </td> <td>Graham Zusi   </td> <td>Paris   </td>\n",
       "        </tr>\n",
       "        <tr>\n",
       "            <td>Nail Knite      </td> <td>Jilian Green  </td> <td>Paris   </td>\n",
       "        </tr>\n",
       "        <tr>\n",
       "            <td>Layla Ahmad     </td> <td>Gina Cameron  </td> <td>San Jose</td>\n",
       "        </tr>\n",
       "        <tr>\n",
       "            <td>Amoli Alex      </td> <td>Corey Jackson </td> <td>London  </td>\n",
       "        </tr>\n",
       "        <tr>\n",
       "            <td>Mike Lyon       </td> <td>Fabian Johnson</td> <td>Paris   </td>\n",
       "        </tr>\n",
       "        <tr>\n",
       "            <td>Adam Plank      </td> <td>Helen Li      </td> <td>Rome    </td>\n",
       "        </tr>\n",
       "    </tbody>\n",
       "</table>"
      ],
      "text/plain": [
       "Salesperson Name | Customer Name  | City\n",
       "James Hoog       | Nick Rimando   | New York\n",
       "James Hoog       | Brad Davis     | New York\n",
       "Nail Knite       | Graham Zusi    | Paris\n",
       "Nail Knite       | Jilian Green   | Paris\n",
       "Layla Ahmad      | Gina Cameron   | San Jose\n",
       "Amoli Alex       | Corey Jackson  | London\n",
       "Mike Lyon        | Fabian Johnson | Paris\n",
       "Adam Plank       | Helen Li       | Rome"
      ]
     },
     "execution_count": 3,
     "metadata": {},
     "output_type": "execute_result"
    }
   ],
   "source": [
    "# Question 1"
   ]
  },
  {
   "cell_type": "markdown",
   "metadata": {},
   "source": [
    "**Question 2.** Use the `join` method to make the table below."
   ]
  },
  {
   "cell_type": "code",
   "execution_count": 4,
   "metadata": {},
   "outputs": [
    {
     "data": {
      "text/html": [
       "<table border=\"1\" class=\"dataframe\">\n",
       "    <thead>\n",
       "        <tr>\n",
       "            <th>Order Number</th> <th>Purchase Amount</th> <th>Customer Name</th> <th>City</th>\n",
       "        </tr>\n",
       "    </thead>\n",
       "    <tbody>\n",
       "        <tr>\n",
       "            <td>70009       </td> <td>$270.65        </td> <td>Corey Jackson </td> <td>London    </td>\n",
       "        </tr>\n",
       "        <tr>\n",
       "            <td>70002       </td> <td>$65.26         </td> <td>Nick Rimando  </td> <td>New York  </td>\n",
       "        </tr>\n",
       "        <tr>\n",
       "            <td>70008       </td> <td>$5,760.00      </td> <td>Nick Rimando  </td> <td>New York  </td>\n",
       "        </tr>\n",
       "        <tr>\n",
       "            <td>70013       </td> <td>$3,045.60      </td> <td>Nick Rimando  </td> <td>New York  </td>\n",
       "        </tr>\n",
       "        <tr>\n",
       "            <td>70011       </td> <td>$75.29         </td> <td>Helen Li      </td> <td>Moscow    </td>\n",
       "        </tr>\n",
       "        <tr>\n",
       "            <td>70010       </td> <td>$1,983.43      </td> <td>Fabian Johnson</td> <td>Paris     </td>\n",
       "        </tr>\n",
       "        <tr>\n",
       "            <td>70001       </td> <td>$150.50        </td> <td>Graham Zusi   </td> <td>California</td>\n",
       "        </tr>\n",
       "        <tr>\n",
       "            <td>70007       </td> <td>$948.50        </td> <td>Graham Zusi   </td> <td>California</td>\n",
       "        </tr>\n",
       "        <tr>\n",
       "            <td>70005       </td> <td>$2,400.60      </td> <td>Brad Davis    </td> <td>New York  </td>\n",
       "        </tr>\n",
       "        <tr>\n",
       "            <td>70012       </td> <td>$250.45        </td> <td>Jilian Green  </td> <td>London    </td>\n",
       "        </tr>\n",
       "    </tbody>\n",
       "</table>\n",
       "<p>... (2 rows omitted)</p>"
      ],
      "text/plain": [
       "Order Number | Purchase Amount | Customer Name  | City\n",
       "70009        | $270.65         | Corey Jackson  | London\n",
       "70002        | $65.26          | Nick Rimando   | New York\n",
       "70008        | $5,760.00       | Nick Rimando   | New York\n",
       "70013        | $3,045.60       | Nick Rimando   | New York\n",
       "70011        | $75.29          | Helen Li       | Moscow\n",
       "70010        | $1,983.43       | Fabian Johnson | Paris\n",
       "70001        | $150.50         | Graham Zusi    | California\n",
       "70007        | $948.50         | Graham Zusi    | California\n",
       "70005        | $2,400.60       | Brad Davis     | New York\n",
       "70012        | $250.45         | Jilian Green   | London\n",
       "... (2 rows omitted)"
      ]
     },
     "execution_count": 4,
     "metadata": {},
     "output_type": "execute_result"
    }
   ],
   "source": [
    "# Question 2"
   ]
  },
  {
   "cell_type": "markdown",
   "metadata": {},
   "source": [
    "**Question 3.** Use the `join` method to make the table below."
   ]
  },
  {
   "cell_type": "code",
   "execution_count": 5,
   "metadata": {},
   "outputs": [
    {
     "data": {
      "text/html": [
       "<table border=\"1\" class=\"dataframe\">\n",
       "    <thead>\n",
       "        <tr>\n",
       "            <th>Customer Name</th> <th>City</th> <th>Salesperson Name</th> <th>Commission</th>\n",
       "        </tr>\n",
       "    </thead>\n",
       "    <tbody>\n",
       "        <tr>\n",
       "            <td>Nick Rimando  </td> <td>New York  </td> <td>James Hoog      </td> <td>0.15      </td>\n",
       "        </tr>\n",
       "        <tr>\n",
       "            <td>Brad Davis    </td> <td>New York  </td> <td>James Hoog      </td> <td>0.15      </td>\n",
       "        </tr>\n",
       "        <tr>\n",
       "            <td>Graham Zusi   </td> <td>California</td> <td>Nail Knite      </td> <td>0.13      </td>\n",
       "        </tr>\n",
       "        <tr>\n",
       "            <td>Jilian Green  </td> <td>London    </td> <td>Nail Knite      </td> <td>0.13      </td>\n",
       "        </tr>\n",
       "        <tr>\n",
       "            <td>Gina Cameron  </td> <td>Berlin    </td> <td>Layla Ahmad     </td> <td>0.12      </td>\n",
       "        </tr>\n",
       "        <tr>\n",
       "            <td>Corey Jackson </td> <td>London    </td> <td>Amoli Alex      </td> <td>0.11      </td>\n",
       "        </tr>\n",
       "        <tr>\n",
       "            <td>Fabian Johnson</td> <td>Paris     </td> <td>Mike Lyon       </td> <td>0.14      </td>\n",
       "        </tr>\n",
       "        <tr>\n",
       "            <td>Helen Li      </td> <td>Moscow    </td> <td>Adam Plank      </td> <td>0.13      </td>\n",
       "        </tr>\n",
       "    </tbody>\n",
       "</table>"
      ],
      "text/plain": [
       "Customer Name  | City       | Salesperson Name | Commission\n",
       "Nick Rimando   | New York   | James Hoog       | 0.15\n",
       "Brad Davis     | New York   | James Hoog       | 0.15\n",
       "Graham Zusi    | California | Nail Knite       | 0.13\n",
       "Jilian Green   | London     | Nail Knite       | 0.13\n",
       "Gina Cameron   | Berlin     | Layla Ahmad      | 0.12\n",
       "Corey Jackson  | London     | Amoli Alex       | 0.11\n",
       "Fabian Johnson | Paris      | Mike Lyon        | 0.14\n",
       "Helen Li       | Moscow     | Adam Plank       | 0.13"
      ]
     },
     "execution_count": 5,
     "metadata": {},
     "output_type": "execute_result"
    }
   ],
   "source": [
    "# Question 3"
   ]
  },
  {
   "cell_type": "markdown",
   "metadata": {},
   "source": [
    "**Question 4.** Use the `join` method to make the table below.\n",
    "\n",
    "**Note:** Only display the customers whose appointed salesperson gets a commission of more than 12%."
   ]
  },
  {
   "cell_type": "code",
   "execution_count": 6,
   "metadata": {},
   "outputs": [
    {
     "data": {
      "text/html": [
       "<table border=\"1\" class=\"dataframe\">\n",
       "    <thead>\n",
       "        <tr>\n",
       "            <th>Salesperson Name</th> <th>Customer Name</th> <th>City</th> <th>Commission</th>\n",
       "        </tr>\n",
       "    </thead>\n",
       "    <tbody>\n",
       "        <tr>\n",
       "            <td>James Hoog      </td> <td>Nick Rimando  </td> <td>New York</td> <td>0.15      </td>\n",
       "        </tr>\n",
       "        <tr>\n",
       "            <td>James Hoog      </td> <td>Brad Davis    </td> <td>New York</td> <td>0.15      </td>\n",
       "        </tr>\n",
       "        <tr>\n",
       "            <td>Nail Knite      </td> <td>Graham Zusi   </td> <td>Paris   </td> <td>0.13      </td>\n",
       "        </tr>\n",
       "        <tr>\n",
       "            <td>Nail Knite      </td> <td>Jilian Green  </td> <td>Paris   </td> <td>0.13      </td>\n",
       "        </tr>\n",
       "        <tr>\n",
       "            <td>Mike Lyon       </td> <td>Fabian Johnson</td> <td>Paris   </td> <td>0.14      </td>\n",
       "        </tr>\n",
       "        <tr>\n",
       "            <td>Adam Plank      </td> <td>Helen Li      </td> <td>Rome    </td> <td>0.13      </td>\n",
       "        </tr>\n",
       "    </tbody>\n",
       "</table>"
      ],
      "text/plain": [
       "Salesperson Name | Customer Name  | City     | Commission\n",
       "James Hoog       | Nick Rimando   | New York | 0.15\n",
       "James Hoog       | Brad Davis     | New York | 0.15\n",
       "Nail Knite       | Graham Zusi    | Paris    | 0.13\n",
       "Nail Knite       | Jilian Green   | Paris    | 0.13\n",
       "Mike Lyon        | Fabian Johnson | Paris    | 0.14\n",
       "Adam Plank       | Helen Li       | Rome     | 0.13"
      ]
     },
     "execution_count": 6,
     "metadata": {},
     "output_type": "execute_result"
    }
   ],
   "source": [
    "# Question 4"
   ]
  },
  {
   "cell_type": "markdown",
   "metadata": {},
   "source": [
    "**Question 5.** Use the `join` method to make the table below.\n",
    "\n",
    "**Note 1:** Only display the customers whose appointed salesperson lives in a different city.\n",
    "\n",
    "**Note 2:** Relabel the column names to `Customer City` and `Salesperson City`.\n",
    "\n",
    "**Hint 1:** The `.relabled` method allows you to relabel multiple comluns using arrays. For more information on the `.relabled` method [click here](http://data8.org/datascience/_autosummary/datascience.tables.Table.relabeled.html) to look at the documentation."
   ]
  },
  {
   "cell_type": "code",
   "execution_count": 7,
   "metadata": {},
   "outputs": [
    {
     "data": {
      "text/html": [
       "<table border=\"1\" class=\"dataframe\">\n",
       "    <thead>\n",
       "        <tr>\n",
       "            <th>Customer Name</th> <th>Customer City</th> <th>Salesperson Name</th> <th>Salesperson City</th> <th>Commission</th>\n",
       "        </tr>\n",
       "    </thead>\n",
       "    <tbody>\n",
       "        <tr>\n",
       "            <td>Graham Zusi   </td> <td>Paris        </td> <td>Nail Knite      </td> <td>California      </td> <td>0.13      </td>\n",
       "        </tr>\n",
       "        <tr>\n",
       "            <td>Jilian Green  </td> <td>Paris        </td> <td>Nail Knite      </td> <td>London          </td> <td>0.13      </td>\n",
       "        </tr>\n",
       "        <tr>\n",
       "            <td>Gina Cameron  </td> <td>San Jose     </td> <td>Layla Ahmad     </td> <td>Berlin          </td> <td>0.12      </td>\n",
       "        </tr>\n",
       "        <tr>\n",
       "            <td>Corey Jackson </td> <td>London       </td> <td>Amoli Alex      </td> <td>London          </td> <td>0.11      </td>\n",
       "        </tr>\n",
       "        <tr>\n",
       "            <td>Fabian Johnson</td> <td>Paris        </td> <td>Mike Lyon       </td> <td>Paris           </td> <td>0.14      </td>\n",
       "        </tr>\n",
       "        <tr>\n",
       "            <td>Helen Li      </td> <td>Rome         </td> <td>Adam Plank      </td> <td>Moscow          </td> <td>0.13      </td>\n",
       "        </tr>\n",
       "    </tbody>\n",
       "</table>"
      ],
      "text/plain": [
       "Customer Name  | Customer City | Salesperson Name | Salesperson City | Commission\n",
       "Graham Zusi    | Paris         | Nail Knite       | California       | 0.13\n",
       "Jilian Green   | Paris         | Nail Knite       | London           | 0.13\n",
       "Gina Cameron   | San Jose      | Layla Ahmad      | Berlin           | 0.12\n",
       "Corey Jackson  | London        | Amoli Alex       | London           | 0.11\n",
       "Fabian Johnson | Paris         | Mike Lyon        | Paris            | 0.14\n",
       "Helen Li       | Rome          | Adam Plank       | Moscow           | 0.13"
      ]
     },
     "execution_count": 7,
     "metadata": {},
     "output_type": "execute_result"
    }
   ],
   "source": [
    "# Question 5"
   ]
  },
  {
   "cell_type": "markdown",
   "metadata": {},
   "source": [
    "**Question 6.** Use the `join` method to make the table below."
   ]
  },
  {
   "cell_type": "code",
   "execution_count": 8,
   "metadata": {},
   "outputs": [
    {
     "data": {
      "text/html": [
       "<table border=\"1\" class=\"dataframe\">\n",
       "    <thead>\n",
       "        <tr>\n",
       "            <th>Order Number</th> <th>Order Date</th> <th>Purchase Amount</th> <th>Customer Name</th> <th>Grade</th> <th>Salesperson Name</th> <th>Commission</th>\n",
       "        </tr>\n",
       "    </thead>\n",
       "    <tbody>\n",
       "        <tr>\n",
       "            <td>70002       </td> <td>2019-10-05</td> <td>$65.26         </td> <td>Nick Rimando </td> <td>100  </td> <td>James Hoog      </td> <td>0.15      </td>\n",
       "        </tr>\n",
       "        <tr>\n",
       "            <td>70008       </td> <td>2019-09-10</td> <td>$5,760.00      </td> <td>Nick Rimando </td> <td>100  </td> <td>James Hoog      </td> <td>0.15      </td>\n",
       "        </tr>\n",
       "        <tr>\n",
       "            <td>70013       </td> <td>2019-04-25</td> <td>$3,045.60      </td> <td>Nick Rimando </td> <td>100  </td> <td>James Hoog      </td> <td>0.15      </td>\n",
       "        </tr>\n",
       "        <tr>\n",
       "            <td>70005       </td> <td>2019-07-27</td> <td>$2,400.60      </td> <td>Brad Davis   </td> <td>200  </td> <td>James Hoog      </td> <td>0.15      </td>\n",
       "        </tr>\n",
       "        <tr>\n",
       "            <td>70001       </td> <td>2019-10-05</td> <td>$150.50        </td> <td>Graham Zusi  </td> <td>200  </td> <td>Nail Knite      </td> <td>0.13      </td>\n",
       "        </tr>\n",
       "        <tr>\n",
       "            <td>70007       </td> <td>2019-09-10</td> <td>$948.50        </td> <td>Graham Zusi  </td> <td>200  </td> <td>Nail Knite      </td> <td>0.13      </td>\n",
       "        </tr>\n",
       "        <tr>\n",
       "            <td>70012       </td> <td>2019-06-27</td> <td>$250.45        </td> <td>Jilian Green </td> <td>300  </td> <td>Nail Knite      </td> <td>0.13      </td>\n",
       "        </tr>\n",
       "        <tr>\n",
       "            <td>70004       </td> <td>2019-08-17</td> <td>$110.50        </td> <td>Gina Cameron </td> <td>100  </td> <td>Layla Ahmad     </td> <td>0.12      </td>\n",
       "        </tr>\n",
       "        <tr>\n",
       "            <td>70003       </td> <td>2019-10-10</td> <td>$2,480.40      </td> <td>Gina Cameron </td> <td>100  </td> <td>Layla Ahmad     </td> <td>0.12      </td>\n",
       "        </tr>\n",
       "        <tr>\n",
       "            <td>70009       </td> <td>2019-09-10</td> <td>$270.65        </td> <td>Corey Jackson</td> <td>200  </td> <td>Amoli Alex      </td> <td>0.11      </td>\n",
       "        </tr>\n",
       "    </tbody>\n",
       "</table>\n",
       "<p>... (2 rows omitted)</p>"
      ],
      "text/plain": [
       "Order Number | Order Date | Purchase Amount | Customer Name | Grade | Salesperson Name | Commission\n",
       "70002        | 2019-10-05 | $65.26          | Nick Rimando  | 100   | James Hoog       | 0.15\n",
       "70008        | 2019-09-10 | $5,760.00       | Nick Rimando  | 100   | James Hoog       | 0.15\n",
       "70013        | 2019-04-25 | $3,045.60       | Nick Rimando  | 100   | James Hoog       | 0.15\n",
       "70005        | 2019-07-27 | $2,400.60       | Brad Davis    | 200   | James Hoog       | 0.15\n",
       "70001        | 2019-10-05 | $150.50         | Graham Zusi   | 200   | Nail Knite       | 0.13\n",
       "70007        | 2019-09-10 | $948.50         | Graham Zusi   | 200   | Nail Knite       | 0.13\n",
       "70012        | 2019-06-27 | $250.45         | Jilian Green  | 300   | Nail Knite       | 0.13\n",
       "70004        | 2019-08-17 | $110.50         | Gina Cameron  | 100   | Layla Ahmad      | 0.12\n",
       "70003        | 2019-10-10 | $2,480.40       | Gina Cameron  | 100   | Layla Ahmad      | 0.12\n",
       "70009        | 2019-09-10 | $270.65         | Corey Jackson | 200   | Amoli Alex       | 0.11\n",
       "... (2 rows omitted)"
      ]
     },
     "execution_count": 8,
     "metadata": {},
     "output_type": "execute_result"
    }
   ],
   "source": [
    "# Question 6"
   ]
  },
  {
   "cell_type": "markdown",
   "metadata": {},
   "source": [
    "### Optional Challenge\n",
    "\n",
    "**Question 7.** Use the `join` method to make the table below.\n",
    "\n",
    "**Note 1:** You will need functions to convert the `Purchase Amount` from a string to a number and to calculate the `Commission Earned`.\n",
    "\n",
    "**Hint 1:** You can use the `.apply` method to call a function on each item in an array.\n",
    "\n",
    "**Hint 2:** The `.replace` method to remove characters from any position in a string. For more information on the `.replace` method [click here](http://data8.org/fa19/python-reference.html) to look at the documentation.\n",
    "\n",
    "**Hint 3:** A function can have multiple arguments. Define a function that accepts the purchase amount and the commission percent, then calculates the commission earned.\n",
    "\n",
    "**Hint 4:** The `CurrencyFormatter` will display a `float` with the '\\$' symbol. For more information on `CurrencyFormatter` [click here](http://data8.org/datascience/formats.html) to look at the documentation. "
   ]
  },
  {
   "cell_type": "code",
   "execution_count": 9,
   "metadata": {
    "collapsed": true,
    "jupyter": {
     "outputs_hidden": true
    }
   },
   "outputs": [
    {
     "data": {
      "text/html": [
       "<table border=\"1\" class=\"dataframe\">\n",
       "    <thead>\n",
       "        <tr>\n",
       "            <th>Order Number</th> <th>Order Date</th> <th>Purchase Amount</th> <th>Customer Name</th> <th>Grade</th> <th>Salesperson Name</th> <th>Commission</th> <th>Commission Earned</th>\n",
       "        </tr>\n",
       "    </thead>\n",
       "    <tbody>\n",
       "        <tr>\n",
       "            <td>70002       </td> <td>2019-10-05</td> <td>$65.26         </td> <td>Nick Rimando </td> <td>100  </td> <td>James Hoog      </td> <td>0.15      </td> <td>$9.79            </td>\n",
       "        </tr>\n",
       "        <tr>\n",
       "            <td>70008       </td> <td>2019-09-10</td> <td>$5,760.00      </td> <td>Nick Rimando </td> <td>100  </td> <td>James Hoog      </td> <td>0.15      </td> <td>$864.00          </td>\n",
       "        </tr>\n",
       "        <tr>\n",
       "            <td>70013       </td> <td>2019-04-25</td> <td>$3,045.60      </td> <td>Nick Rimando </td> <td>100  </td> <td>James Hoog      </td> <td>0.15      </td> <td>$456.84          </td>\n",
       "        </tr>\n",
       "        <tr>\n",
       "            <td>70005       </td> <td>2019-07-27</td> <td>$2,400.60      </td> <td>Brad Davis   </td> <td>200  </td> <td>James Hoog      </td> <td>0.15      </td> <td>$360.09          </td>\n",
       "        </tr>\n",
       "        <tr>\n",
       "            <td>70001       </td> <td>2019-10-05</td> <td>$150.50        </td> <td>Graham Zusi  </td> <td>200  </td> <td>Nail Knite      </td> <td>0.13      </td> <td>$19.57           </td>\n",
       "        </tr>\n",
       "        <tr>\n",
       "            <td>70007       </td> <td>2019-09-10</td> <td>$948.50        </td> <td>Graham Zusi  </td> <td>200  </td> <td>Nail Knite      </td> <td>0.13      </td> <td>$123.30          </td>\n",
       "        </tr>\n",
       "        <tr>\n",
       "            <td>70012       </td> <td>2019-06-27</td> <td>$250.45        </td> <td>Jilian Green </td> <td>300  </td> <td>Nail Knite      </td> <td>0.13      </td> <td>$32.56           </td>\n",
       "        </tr>\n",
       "        <tr>\n",
       "            <td>70004       </td> <td>2019-08-17</td> <td>$110.50        </td> <td>Gina Cameron </td> <td>100  </td> <td>Layla Ahmad     </td> <td>0.12      </td> <td>$13.26           </td>\n",
       "        </tr>\n",
       "        <tr>\n",
       "            <td>70003       </td> <td>2019-10-10</td> <td>$2,480.40      </td> <td>Gina Cameron </td> <td>100  </td> <td>Layla Ahmad     </td> <td>0.12      </td> <td>$297.65          </td>\n",
       "        </tr>\n",
       "        <tr>\n",
       "            <td>70009       </td> <td>2019-09-10</td> <td>$270.65        </td> <td>Corey Jackson</td> <td>200  </td> <td>Amoli Alex      </td> <td>0.11      </td> <td>$29.77           </td>\n",
       "        </tr>\n",
       "    </tbody>\n",
       "</table>\n",
       "<p>... (2 rows omitted)</p>"
      ],
      "text/plain": [
       "Order Number | Order Date | Purchase Amount | Customer Name | Grade | Salesperson Name | Commission | Commission Earned\n",
       "70002        | 2019-10-05 | $65.26          | Nick Rimando  | 100   | James Hoog       | 0.15       | $9.79\n",
       "70008        | 2019-09-10 | $5,760.00       | Nick Rimando  | 100   | James Hoog       | 0.15       | $864.00\n",
       "70013        | 2019-04-25 | $3,045.60       | Nick Rimando  | 100   | James Hoog       | 0.15       | $456.84\n",
       "70005        | 2019-07-27 | $2,400.60       | Brad Davis    | 200   | James Hoog       | 0.15       | $360.09\n",
       "70001        | 2019-10-05 | $150.50         | Graham Zusi   | 200   | Nail Knite       | 0.13       | $19.57\n",
       "70007        | 2019-09-10 | $948.50         | Graham Zusi   | 200   | Nail Knite       | 0.13       | $123.30\n",
       "70012        | 2019-06-27 | $250.45         | Jilian Green  | 300   | Nail Knite       | 0.13       | $32.56\n",
       "70004        | 2019-08-17 | $110.50         | Gina Cameron  | 100   | Layla Ahmad      | 0.12       | $13.26\n",
       "70003        | 2019-10-10 | $2,480.40       | Gina Cameron  | 100   | Layla Ahmad      | 0.12       | $297.65\n",
       "70009        | 2019-09-10 | $270.65         | Corey Jackson | 200   | Amoli Alex       | 0.11       | $29.77\n",
       "... (2 rows omitted)"
      ]
     },
     "execution_count": 9,
     "metadata": {},
     "output_type": "execute_result"
    }
   ],
   "source": [
    "# Question 7"
   ]
  },
  {
   "cell_type": "markdown",
   "metadata": {},
   "source": [
    "**Question 7.** Use the `join` method to make the table below.\n",
    "\n",
    "**Hint 1:** Use the `np.unique()` function to return the unique elements from the `Salesperson Name` column.\n"
   ]
  },
  {
   "cell_type": "code",
   "execution_count": 10,
   "metadata": {},
   "outputs": [
    {
     "data": {
      "text/html": [
       "<table border=\"1\" class=\"dataframe\">\n",
       "    <thead>\n",
       "        <tr>\n",
       "            <th>Salesperson Name</th> <th>Total Sales</th>\n",
       "        </tr>\n",
       "    </thead>\n",
       "    <tbody>\n",
       "        <tr>\n",
       "            <td>Adam Plank      </td> <td>$75        </td>\n",
       "        </tr>\n",
       "        <tr>\n",
       "            <td>Amoli Alex      </td> <td>$271       </td>\n",
       "        </tr>\n",
       "        <tr>\n",
       "            <td>James Hoog      </td> <td>$11,271    </td>\n",
       "        </tr>\n",
       "        <tr>\n",
       "            <td>Layla Ahmad     </td> <td>$2,591     </td>\n",
       "        </tr>\n",
       "        <tr>\n",
       "            <td>Mike Lyon       </td> <td>$1,983     </td>\n",
       "        </tr>\n",
       "        <tr>\n",
       "            <td>Nail Knite      </td> <td>$1,349     </td>\n",
       "        </tr>\n",
       "    </tbody>\n",
       "</table>"
      ],
      "text/plain": [
       "Salesperson Name | Total Sales\n",
       "Adam Plank       | $75\n",
       "Amoli Alex       | $271\n",
       "James Hoog       | $11,271\n",
       "Layla Ahmad      | $2,591\n",
       "Mike Lyon        | $1,983\n",
       "Nail Knite       | $1,349"
      ]
     },
     "execution_count": 10,
     "metadata": {},
     "output_type": "execute_result"
    }
   ],
   "source": [
    "# Question 8"
   ]
  }
 ],
 "metadata": {
  "kernelspec": {
   "display_name": "Python 3",
   "language": "python",
   "name": "python3"
  },
  "language_info": {
   "codemirror_mode": {
    "name": "ipython",
    "version": 3
   },
   "file_extension": ".py",
   "mimetype": "text/x-python",
   "name": "python",
   "nbconvert_exporter": "python",
   "pygments_lexer": "ipython3",
   "version": "3.8.5"
  }
 },
 "nbformat": 4,
 "nbformat_minor": 4
}
