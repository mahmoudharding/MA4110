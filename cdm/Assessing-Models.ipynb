{
 "cells": [
  {
   "cell_type": "markdown",
   "metadata": {},
   "source": [
    "# Assessing Models"
   ]
  },
  {
   "cell_type": "markdown",
   "metadata": {},
   "source": [
    "### A Model about Random Selection\n",
    "\n",
    "#### Swain vs. Alabama\n",
    "\n",
    "Swain, a black man, was indicted and convicted of rape in the Circuit Court of Talladega County, Alabama, and sentenced to death by an all white jury. The case was appealed to the Supreme Court, in part, on the ground that there were no black jurors. Of eligible jurors in the county, 26% were black, but panels since 1953 averaged 10% to 15% black jurors and no black juror had actually served on a petit jury (a jury, typically of twelve people, who try the final issue of fact in civil or criminal cases and pronounce a verdict) since 1950.\n",
    "\n",
    "In Swain's case, 8 of the 100 empaneled jurors were black, but all were \"struck\" through peremptory challenges by the prosecution."
   ]
  },
  {
   "cell_type": "code",
   "execution_count": 3,
   "metadata": {},
   "outputs": [],
   "source": [
    "from datascience import *\n",
    "%matplotlib inline\n",
    "import matplotlib.pyplot as plots\n",
    "plots.style.use('fivethirtyeight')\n",
    "import numpy as np"
   ]
  },
  {
   "cell_type": "markdown",
   "metadata": {},
   "source": [
    "**Question 1.** Make an array named `eligible_population` to store the proportions of the population (26% Black and 74% Other). Then use the `sample_proportions` function to simulate the distribution of the jurors in the panel."
   ]
  },
  {
   "cell_type": "code",
   "execution_count": null,
   "metadata": {},
   "outputs": [],
   "source": [
    "# Question 1\n",
    "proportion_black = \n",
    "proportion_other = \n",
    "eligible_population = "
   ]
  },
  {
   "cell_type": "markdown",
   "metadata": {},
   "source": [
    "**Question 2.** How would we determine the number of Black people in the sample distribution."
   ]
  },
  {
   "cell_type": "code",
   "execution_count": null,
   "metadata": {},
   "outputs": [],
   "source": [
    "# Question 2\n",
    "number_black = "
   ]
  },
  {
   "cell_type": "markdown",
   "metadata": {},
   "source": [
    "**Question 3.** Repeat the process of simulating the sample distribution (10 times), determine the number of Black people in the sample distribution, and save the values to an array named `counts`."
   ]
  },
  {
   "cell_type": "code",
   "execution_count": null,
   "metadata": {},
   "outputs": [],
   "source": [
    "# Question 3"
   ]
  },
  {
   "cell_type": "markdown",
   "metadata": {},
   "source": [
    "**Question 4.** Run the simulation 10000 times, determine the number of Black people in the sample distribution, save the values to an array named `counts`, and display the distribution in a histogram."
   ]
  },
  {
   "cell_type": "code",
   "execution_count": null,
   "metadata": {},
   "outputs": [],
   "source": [
    "# Question 4"
   ]
  },
  {
   "cell_type": "markdown",
   "metadata": {},
   "source": [
    "**Question 5.** What does the histogram represent?"
   ]
  },
  {
   "cell_type": "markdown",
   "metadata": {},
   "source": [
    "### A Genetic Model\n",
    "\n",
    "#### Gregor Mendel\n",
    "\n",
    "Mendel first experimented with just one characteristic of a pea plant at a time. He began with flower color. As shown in the Figure below, Mendel cross-pollinated purple- and white-flowered parent plants. The parent plants in the experiments are referred to as the $P$ (for parent) generation.\n",
    "\n",
    "\n",
    "<img src=\"mendel.png\" style=\"width: 500px;\" class=\"center\"/>\n",
    "\n",
    "\n",
    "The $F_1$ generation results from cross-pollination of two parent ($P$) plants, and contained all purple flowers. The $F_2$ generation results from self-pollination of $F_1$ plants, and contained 75% purple flowers and 25% white flowers."
   ]
  },
  {
   "cell_type": "code",
   "execution_count": 4,
   "metadata": {},
   "outputs": [
    {
     "data": {
      "text/plain": [
       "array([0.77825619, 0.22174381])"
      ]
     },
     "execution_count": 4,
     "metadata": {},
     "output_type": "execute_result"
    }
   ],
   "source": [
    "proportion_purple = 0.75\n",
    "proportion_white = 0.25\n",
    "model = make_array(proportion_purple, proportion_white)\n",
    "sample_proportions(929, model)"
   ]
  },
  {
   "cell_type": "code",
   "execution_count": 5,
   "metadata": {},
   "outputs": [
    {
     "data": {
      "text/plain": [
       "0.026910656620017903"
      ]
     },
     "execution_count": 5,
     "metadata": {},
     "output_type": "execute_result"
    }
   ],
   "source": [
    "percent_purple = 100 * sample_proportions(929, model).item(0)\n",
    "abs(percent_purple - 100 * proportion_purple)"
   ]
  },
  {
   "cell_type": "markdown",
   "metadata": {},
   "source": [
    "**Question 6.** Make a histogram to show the distribution of the sampled distances."
   ]
  },
  {
   "cell_type": "code",
   "execution_count": 7,
   "metadata": {},
   "outputs": [
    {
     "data": {
      "image/png": "[encoded data removed]",
      "text/plain": [
       "<Figure size 432x288 with 1 Axes>"
      ]
     },
     "metadata": {},
     "output_type": "display_data"
    }
   ],
   "source": [
    "# Question 6"
   ]
  },
  {
   "cell_type": "markdown",
   "metadata": {},
   "source": [
    "**Question 7.** There were 705 purple flowers in Mendel's experiment. What is the observed distance from Mendel's model."
   ]
  },
  {
   "cell_type": "code",
   "execution_count": null,
   "metadata": {},
   "outputs": [],
   "source": [
    "# Question 7"
   ]
  }
 ],
 "metadata": {
  "kernelspec": {
   "display_name": "Python 3",
   "language": "python",
   "name": "python3"
  },
  "language_info": {
   "codemirror_mode": {
    "name": "ipython",
    "version": 3
   },
   "file_extension": ".py",
   "mimetype": "text/x-python",
   "name": "python",
   "nbconvert_exporter": "python",
   "pygments_lexer": "ipython3",
   "version": "3.8.5"
  }
 },
 "nbformat": 4,
 "nbformat_minor": 4
}
