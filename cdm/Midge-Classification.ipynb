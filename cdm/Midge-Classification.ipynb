{
 "cells": [
  {
   "cell_type": "markdown",
   "metadata": {},
   "source": [
    "# Midge Classification"
   ]
  },
  {
   "cell_type": "code",
   "execution_count": null,
   "metadata": {},
   "outputs": [],
   "source": [
    "from datascience import *\n",
    "import numpy as np\n",
    "import matplotlib\n",
    "%matplotlib inline\n",
    "import matplotlib.pyplot as plt\n",
    "plt.style.use('fivethirtyeight')"
   ]
  },
  {
   "cell_type": "markdown",
   "metadata": {},
   "source": [
    "The Midge Problem\n",
    "In 1981, two new varieties of a tiny biting insect called a midge were discovered in the jungles of Brazil by biologists W. L. Grogan and W. W. Wirth. They dubbed one kind of midge an Apf midge and the other an Af midge. The biologists found that the Apf midge is a carrier of a debilitating disease that causes swelling of the brain when a human is bitten by an infected midge. Although the disease is rarely fatal, the disability caused by the swelling may be permanent. The other form of the midge, the Af, is quite harmless and a valuable pollinator. In an effort to distinguish the two varieties, the biologists took measurements on the midges they caught. The two measurements taken were wing length and antenna length, both measured in centimeters. The data are provided in the following table. Run the cell below to read in the data as a Table."
   ]
  },
  {
   "cell_type": "code",
   "execution_count": null,
   "metadata": {},
   "outputs": [],
   "source": [
    "midge = Table.read_table('midge.csv')\n",
    "midge"
   ]
  },
  {
   "cell_type": "markdown",
   "metadata": {},
   "source": [
    "**Question 1.** Plot Wing Length vs Antenna Length, and color code the two different groups."
   ]
  },
  {
   "cell_type": "code",
   "execution_count": null,
   "metadata": {},
   "outputs": [],
   "source": [
    "# Question 1"
   ]
  },
  {
   "cell_type": "markdown",
   "metadata": {},
   "source": [
    "**Question 2.** Given a midge that you know is either species Af or Apf, how would you go about classifying it?"
   ]
  },
  {
   "cell_type": "markdown",
   "metadata": {},
   "source": [
    "**Question 3.** Apply your method to three specimens with (Wing Length, Antenna Length) values of: $(1.80, 1.24)$, $(1.84, 1.28)$, and $(2.04, 1.40)$."
   ]
  }
 ],
 "metadata": {
  "kernelspec": {
   "display_name": "Python 3",
   "language": "python",
   "name": "python3"
  },
  "language_info": {
   "codemirror_mode": {
    "name": "ipython",
    "version": 3
   },
   "file_extension": ".py",
   "mimetype": "text/x-python",
   "name": "python",
   "nbconvert_exporter": "python",
   "pygments_lexer": "ipython3",
   "version": "3.8.5"
  }
 },
 "nbformat": 4,
 "nbformat_minor": 4
}
