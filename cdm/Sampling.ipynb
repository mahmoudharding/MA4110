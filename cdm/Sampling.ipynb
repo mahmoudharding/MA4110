{
 "cells": [
  {
   "cell_type": "markdown",
   "metadata": {},
   "source": [
    "# Sampling"
   ]
  },
  {
   "cell_type": "code",
   "execution_count": 16,
   "metadata": {},
   "outputs": [],
   "source": [
    "import warnings\n",
    "warnings.filterwarnings(\"ignore\", message=\"The 'warn' parameter of\")\n",
    "\n",
    "from datascience import *\n",
    "import numpy as np\n",
    "\n",
    "%matplotlib inline\n",
    "import matplotlib.pyplot as plots\n",
    "plots.style.use('fivethirtyeight')"
   ]
  },
  {
   "cell_type": "markdown",
   "metadata": {},
   "source": [
    "**Question 1.** Read in the `top_movies.csv` file and save it to table named `top_movies`, sorted in descending order by the items in the `Gross (Adjusted)` column."
   ]
  },
  {
   "cell_type": "code",
   "execution_count": 17,
   "metadata": {},
   "outputs": [
    {
     "data": {
      "text/html": [
       "<table border=\"1\" class=\"dataframe\">\n",
       "    <thead>\n",
       "        <tr>\n",
       "            <th>Title</th> <th>Studio</th> <th>Gross</th> <th>Gross (Adjusted)</th> <th>Year</th>\n",
       "        </tr>\n",
       "    </thead>\n",
       "    <tbody>\n",
       "        <tr>\n",
       "            <td>Gone with the Wind             </td> <td>MGM         </td> <td>198676459</td> <td>1757788200      </td> <td>1939</td>\n",
       "        </tr>\n",
       "        <tr>\n",
       "            <td>Star Wars                      </td> <td>Fox         </td> <td>460998007</td> <td>1549640500      </td> <td>1977</td>\n",
       "        </tr>\n",
       "        <tr>\n",
       "            <td>The Sound of Music             </td> <td>Fox         </td> <td>158671368</td> <td>1239013800      </td> <td>1965</td>\n",
       "        </tr>\n",
       "        <tr>\n",
       "            <td>E.T.: The Extra-Terrestrial    </td> <td>Universal   </td> <td>435110554</td> <td>1234132700      </td> <td>1982</td>\n",
       "        </tr>\n",
       "        <tr>\n",
       "            <td>Titanic                        </td> <td>Paramount   </td> <td>658672302</td> <td>1178627900      </td> <td>1997</td>\n",
       "        </tr>\n",
       "        <tr>\n",
       "            <td>The Ten Commandments           </td> <td>Paramount   </td> <td>65500000 </td> <td>1139700000      </td> <td>1956</td>\n",
       "        </tr>\n",
       "        <tr>\n",
       "            <td>Jaws                           </td> <td>Universal   </td> <td>260000000</td> <td>1114285700      </td> <td>1975</td>\n",
       "        </tr>\n",
       "        <tr>\n",
       "            <td>Doctor Zhivago                 </td> <td>MGM         </td> <td>111721910</td> <td>1079978500      </td> <td>1965</td>\n",
       "        </tr>\n",
       "        <tr>\n",
       "            <td>The Exorcist                   </td> <td>Warner Bros.</td> <td>232906145</td> <td>962212800       </td> <td>1973</td>\n",
       "        </tr>\n",
       "        <tr>\n",
       "            <td>Snow White and the Seven Dwarfs</td> <td>Disney      </td> <td>184925486</td> <td>948300000       </td> <td>1937</td>\n",
       "        </tr>\n",
       "    </tbody>\n",
       "</table>\n",
       "<p>... (190 rows omitted)</p>"
      ],
      "text/plain": [
       "Title                           | Studio       | Gross     | Gross (Adjusted) | Year\n",
       "Gone with the Wind              | MGM          | 198676459 | 1757788200       | 1939\n",
       "Star Wars                       | Fox          | 460998007 | 1549640500       | 1977\n",
       "The Sound of Music              | Fox          | 158671368 | 1239013800       | 1965\n",
       "E.T.: The Extra-Terrestrial     | Universal    | 435110554 | 1234132700       | 1982\n",
       "Titanic                         | Paramount    | 658672302 | 1178627900       | 1997\n",
       "The Ten Commandments            | Paramount    | 65500000  | 1139700000       | 1956\n",
       "Jaws                            | Universal    | 260000000 | 1114285700       | 1975\n",
       "Doctor Zhivago                  | MGM          | 111721910 | 1079978500       | 1965\n",
       "The Exorcist                    | Warner Bros. | 232906145 | 962212800        | 1973\n",
       "Snow White and the Seven Dwarfs | Disney       | 184925486 | 948300000        | 1937\n",
       "... (190 rows omitted)"
      ]
     },
     "execution_count": 17,
     "metadata": {},
     "output_type": "execute_result"
    }
   ],
   "source": [
    "# Question 1"
   ]
  },
  {
   "cell_type": "markdown",
   "metadata": {},
   "source": [
    "**Question 2.** Add a column named `Row Index` to the begining of the `top_movies` table. The column should contain the index of the row (i.e. the first item in the column should be 0 and each item should increment by 1 until the last item in the column) and the `Gross` and `Gross (Adjusted)` columns should be formatted to show commas.\n",
    "\n",
    "**Hints:**\n",
    "\n",
    "- Use the `np.arange` function to make the array for the `Row Index` column.\n",
    "- Use the `with_column` method to add a column to the `top_movies` table.\n",
    "- Use the `move_to_start` method to place a column at the beginning of the `top_movies` table."
   ]
  },
  {
   "cell_type": "code",
   "execution_count": 19,
   "metadata": {},
   "outputs": [
    {
     "data": {
      "text/html": [
       "<table border=\"1\" class=\"dataframe\">\n",
       "    <thead>\n",
       "        <tr>\n",
       "            <th>Row Index</th> <th>Title</th> <th>Studio</th> <th>Gross</th> <th>Gross (Adjusted)</th> <th>Year</th>\n",
       "        </tr>\n",
       "    </thead>\n",
       "    <tbody>\n",
       "        <tr>\n",
       "            <td>0        </td> <td>Gone with the Wind             </td> <td>MGM         </td> <td>198,676,459</td> <td>1,757,788,200   </td> <td>1939</td>\n",
       "        </tr>\n",
       "        <tr>\n",
       "            <td>1        </td> <td>Star Wars                      </td> <td>Fox         </td> <td>460,998,007</td> <td>1,549,640,500   </td> <td>1977</td>\n",
       "        </tr>\n",
       "        <tr>\n",
       "            <td>2        </td> <td>The Sound of Music             </td> <td>Fox         </td> <td>158,671,368</td> <td>1,239,013,800   </td> <td>1965</td>\n",
       "        </tr>\n",
       "        <tr>\n",
       "            <td>3        </td> <td>E.T.: The Extra-Terrestrial    </td> <td>Universal   </td> <td>435,110,554</td> <td>1,234,132,700   </td> <td>1982</td>\n",
       "        </tr>\n",
       "        <tr>\n",
       "            <td>4        </td> <td>Titanic                        </td> <td>Paramount   </td> <td>658,672,302</td> <td>1,178,627,900   </td> <td>1997</td>\n",
       "        </tr>\n",
       "        <tr>\n",
       "            <td>5        </td> <td>The Ten Commandments           </td> <td>Paramount   </td> <td>65,500,000 </td> <td>1,139,700,000   </td> <td>1956</td>\n",
       "        </tr>\n",
       "        <tr>\n",
       "            <td>6        </td> <td>Jaws                           </td> <td>Universal   </td> <td>260,000,000</td> <td>1,114,285,700   </td> <td>1975</td>\n",
       "        </tr>\n",
       "        <tr>\n",
       "            <td>7        </td> <td>Doctor Zhivago                 </td> <td>MGM         </td> <td>111,721,910</td> <td>1,079,978,500   </td> <td>1965</td>\n",
       "        </tr>\n",
       "        <tr>\n",
       "            <td>8        </td> <td>The Exorcist                   </td> <td>Warner Bros.</td> <td>232,906,145</td> <td>962,212,800     </td> <td>1973</td>\n",
       "        </tr>\n",
       "        <tr>\n",
       "            <td>9        </td> <td>Snow White and the Seven Dwarfs</td> <td>Disney      </td> <td>184,925,486</td> <td>948,300,000     </td> <td>1937</td>\n",
       "        </tr>\n",
       "    </tbody>\n",
       "</table>\n",
       "<p>... (190 rows omitted)</p>"
      ],
      "text/plain": [
       "Row Index | Title                           | Studio       | Gross       | Gross (Adjusted) | Year\n",
       "0         | Gone with the Wind              | MGM          | 198,676,459 | 1,757,788,200    | 1939\n",
       "1         | Star Wars                       | Fox          | 460,998,007 | 1,549,640,500    | 1977\n",
       "2         | The Sound of Music              | Fox          | 158,671,368 | 1,239,013,800    | 1965\n",
       "3         | E.T.: The Extra-Terrestrial     | Universal    | 435,110,554 | 1,234,132,700    | 1982\n",
       "4         | Titanic                         | Paramount    | 658,672,302 | 1,178,627,900    | 1997\n",
       "5         | The Ten Commandments            | Paramount    | 65,500,000  | 1,139,700,000    | 1956\n",
       "6         | Jaws                            | Universal    | 260,000,000 | 1,114,285,700    | 1975\n",
       "7         | Doctor Zhivago                  | MGM          | 111,721,910 | 1,079,978,500    | 1965\n",
       "8         | The Exorcist                    | Warner Bros. | 232,906,145 | 962,212,800      | 1973\n",
       "9         | Snow White and the Seven Dwarfs | Disney       | 184,925,486 | 948,300,000      | 1937\n",
       "... (190 rows omitted)"
      ]
     },
     "execution_count": 19,
     "metadata": {},
     "output_type": "execute_result"
    }
   ],
   "source": [
    "# Question 2"
   ]
  },
  {
   "cell_type": "markdown",
   "metadata": {},
   "source": [
    "## Deterministic Sample\n",
    "\n",
    "**Question 3.** Use the `take` method to perform a deterministic sample of the items in rows 3, 5, 7, and 9."
   ]
  },
  {
   "cell_type": "code",
   "execution_count": 20,
   "metadata": {},
   "outputs": [
    {
     "data": {
      "text/html": [
       "<table border=\"1\" class=\"dataframe\">\n",
       "    <thead>\n",
       "        <tr>\n",
       "            <th>Row Index</th> <th>Title</th> <th>Studio</th> <th>Gross</th> <th>Gross (Adjusted)</th> <th>Year</th>\n",
       "        </tr>\n",
       "    </thead>\n",
       "    <tbody>\n",
       "        <tr>\n",
       "            <td>3        </td> <td>E.T.: The Extra-Terrestrial    </td> <td>Universal</td> <td>435,110,554</td> <td>1,234,132,700   </td> <td>1982</td>\n",
       "        </tr>\n",
       "        <tr>\n",
       "            <td>5        </td> <td>The Ten Commandments           </td> <td>Paramount</td> <td>65,500,000 </td> <td>1,139,700,000   </td> <td>1956</td>\n",
       "        </tr>\n",
       "        <tr>\n",
       "            <td>7        </td> <td>Doctor Zhivago                 </td> <td>MGM      </td> <td>111,721,910</td> <td>1,079,978,500   </td> <td>1965</td>\n",
       "        </tr>\n",
       "        <tr>\n",
       "            <td>9        </td> <td>Snow White and the Seven Dwarfs</td> <td>Disney   </td> <td>184,925,486</td> <td>948,300,000     </td> <td>1937</td>\n",
       "        </tr>\n",
       "    </tbody>\n",
       "</table>"
      ],
      "text/plain": [
       "Row Index | Title                           | Studio    | Gross       | Gross (Adjusted) | Year\n",
       "3         | E.T.: The Extra-Terrestrial     | Universal | 435,110,554 | 1,234,132,700    | 1982\n",
       "5         | The Ten Commandments            | Paramount | 65,500,000  | 1,139,700,000    | 1956\n",
       "7         | Doctor Zhivago                  | MGM       | 111,721,910 | 1,079,978,500    | 1965\n",
       "9         | Snow White and the Seven Dwarfs | Disney    | 184,925,486 | 948,300,000      | 1937"
      ]
     },
     "execution_count": 20,
     "metadata": {},
     "output_type": "execute_result"
    }
   ],
   "source": [
    "top_movies.take(3,5,7,9)"
   ]
  },
  {
   "cell_type": "markdown",
   "metadata": {},
   "source": [
    "**Question 4.** Use the `where` method to perform a deterministic sample of the rows that contain \"and the\" in the movie title.\n",
    "\n",
    "**Hint:** Look at the list of predicates to find one that will help you choose the rows."
   ]
  },
  {
   "cell_type": "code",
   "execution_count": 21,
   "metadata": {},
   "outputs": [
    {
     "data": {
      "text/html": [
       "<table border=\"1\" class=\"dataframe\">\n",
       "    <thead>\n",
       "        <tr>\n",
       "            <th>Row Index</th> <th>Title</th> <th>Studio</th> <th>Gross</th> <th>Gross (Adjusted)</th> <th>Year</th>\n",
       "        </tr>\n",
       "    </thead>\n",
       "    <tbody>\n",
       "        <tr>\n",
       "            <td>9        </td> <td>Snow White and the Seven Dwarfs                             </td> <td>Disney              </td> <td>184,925,486</td> <td>948,300,000     </td> <td>1937</td>\n",
       "        </tr>\n",
       "        <tr>\n",
       "            <td>35       </td> <td>Butch Cassidy and the Sundance Kid                          </td> <td>Fox                 </td> <td>102,308,889</td> <td>613,853,300     </td> <td>1969</td>\n",
       "        </tr>\n",
       "        <tr>\n",
       "            <td>69       </td> <td>Smokey and the Bandit                                       </td> <td>Universal           </td> <td>126,737,428</td> <td>494,446,500     </td> <td>1977</td>\n",
       "        </tr>\n",
       "        <tr>\n",
       "            <td>71       </td> <td>Harry Potter and the Sorcerer's Stone                       </td> <td>Warner Bros.        </td> <td>317,575,550</td> <td>486,442,900     </td> <td>2001</td>\n",
       "        </tr>\n",
       "        <tr>\n",
       "            <td>72       </td> <td>Lady and the Tramp                                          </td> <td>Disney              </td> <td>93,602,326 </td> <td>484,893,500     </td> <td>1955</td>\n",
       "        </tr>\n",
       "        <tr>\n",
       "            <td>88       </td> <td>Indiana Jones and the Temple of Doom                        </td> <td>Paramount           </td> <td>179,870,271</td> <td>465,735,500     </td> <td>1984</td>\n",
       "        </tr>\n",
       "        <tr>\n",
       "            <td>102      </td> <td>Indiana Jones and the Last Crusade                          </td> <td>Paramount           </td> <td>197,171,806</td> <td>429,923,500     </td> <td>1989</td>\n",
       "        </tr>\n",
       "        <tr>\n",
       "            <td>111      </td> <td>Harry Potter and the Deathly Hallows Part 2                 </td> <td>Warner Bros.        </td> <td>381,011,219</td> <td>417,512,200     </td> <td>2011</td>\n",
       "        </tr>\n",
       "        <tr>\n",
       "            <td>124      </td> <td>Beauty and the Beast                                        </td> <td>Buena Vista (Disney)</td> <td>218,967,620</td> <td>394,664,300     </td> <td>1991</td>\n",
       "        </tr>\n",
       "        <tr>\n",
       "            <td>125      </td> <td>The Chronicles of Narnia: The Lion, the Witch and the Wa ...</td> <td>Buena Vista (Disney)</td> <td>291,710,957</td> <td>393,033,100     </td> <td>2005</td>\n",
       "        </tr>\n",
       "    </tbody>\n",
       "</table>\n",
       "<p>... (6 rows omitted)</p>"
      ],
      "text/plain": [
       "Row Index | Title                                                        | Studio               | Gross       | Gross (Adjusted) | Year\n",
       "9         | Snow White and the Seven Dwarfs                              | Disney               | 184,925,486 | 948,300,000      | 1937\n",
       "35        | Butch Cassidy and the Sundance Kid                           | Fox                  | 102,308,889 | 613,853,300      | 1969\n",
       "69        | Smokey and the Bandit                                        | Universal            | 126,737,428 | 494,446,500      | 1977\n",
       "71        | Harry Potter and the Sorcerer's Stone                        | Warner Bros.         | 317,575,550 | 486,442,900      | 2001\n",
       "72        | Lady and the Tramp                                           | Disney               | 93,602,326  | 484,893,500      | 1955\n",
       "88        | Indiana Jones and the Temple of Doom                         | Paramount            | 179,870,271 | 465,735,500      | 1984\n",
       "102       | Indiana Jones and the Last Crusade                           | Paramount            | 197,171,806 | 429,923,500      | 1989\n",
       "111       | Harry Potter and the Deathly Hallows Part 2                  | Warner Bros.         | 381,011,219 | 417,512,200      | 2011\n",
       "124       | Beauty and the Beast                                         | Buena Vista (Disney) | 218,967,620 | 394,664,300      | 1991\n",
       "125       | The Chronicles of Narnia: The Lion, the Witch and the Wa ... | Buena Vista (Disney) | 291,710,957 | 393,033,100      | 2005\n",
       "... (6 rows omitted)"
      ]
     },
     "execution_count": 21,
     "metadata": {},
     "output_type": "execute_result"
    }
   ],
   "source": [
    "# Question 4"
   ]
  },
  {
   "cell_type": "markdown",
   "metadata": {},
   "source": [
    "## Probablistic and Deterministic\n",
    "\n",
    "**Question 5.** Identify are the probablistic and deterministic features of the sample in the code cell below."
   ]
  },
  {
   "cell_type": "code",
   "execution_count": 30,
   "metadata": {},
   "outputs": [
    {
     "data": {
      "text/html": [
       "<table border=\"1\" class=\"dataframe\">\n",
       "    <thead>\n",
       "        <tr>\n",
       "            <th>Row Index</th> <th>Title</th> <th>Studio</th> <th>Gross</th> <th>Gross (Adjusted)</th> <th>Year</th>\n",
       "        </tr>\n",
       "    </thead>\n",
       "    <tbody>\n",
       "        <tr>\n",
       "            <td>7        </td> <td>Doctor Zhivago                 </td> <td>MGM                 </td> <td>111,721,910</td> <td>1,079,978,500   </td> <td>1965</td>\n",
       "        </tr>\n",
       "        <tr>\n",
       "            <td>8        </td> <td>The Exorcist                   </td> <td>Warner Bros.        </td> <td>232,906,145</td> <td>962,212,800     </td> <td>1973</td>\n",
       "        </tr>\n",
       "        <tr>\n",
       "            <td>9        </td> <td>Snow White and the Seven Dwarfs</td> <td>Disney              </td> <td>184,925,486</td> <td>948,300,000     </td> <td>1937</td>\n",
       "        </tr>\n",
       "        <tr>\n",
       "            <td>10       </td> <td>Star Wars: The Force Awakens   </td> <td>Buena Vista (Disney)</td> <td>906,723,418</td> <td>906,723,400     </td> <td>2015</td>\n",
       "        </tr>\n",
       "    </tbody>\n",
       "</table>"
      ],
      "text/plain": [
       "Row Index | Title                           | Studio               | Gross       | Gross (Adjusted) | Year\n",
       "7         | Doctor Zhivago                  | MGM                  | 111,721,910 | 1,079,978,500    | 1965\n",
       "8         | The Exorcist                    | Warner Bros.         | 232,906,145 | 962,212,800      | 1973\n",
       "9         | Snow White and the Seven Dwarfs | Disney               | 184,925,486 | 948,300,000      | 1937\n",
       "10        | Star Wars: The Force Awakens    | Buena Vista (Disney) | 906,723,418 | 906,723,400      | 2015"
      ]
     },
     "execution_count": 30,
     "metadata": {},
     "output_type": "execute_result"
    }
   ],
   "source": [
    "start = np.random.choice(np.arange(10))\n",
    "top_movies.take(np.arange(start, start + 4))"
   ]
  },
  {
   "cell_type": "markdown",
   "metadata": {},
   "source": [
    "## Uniform Random Sample\n",
    "\n",
    "Run the code cell below multiple times, then answer **Question 6.** and **Question 7.**.\n",
    "\n",
    "**Question 6.** What is a uniform random sample?\n",
    "\n",
    "**Question 7.** What do you think it means to sample \"with replacement\"?"
   ]
  },
  {
   "cell_type": "code",
   "execution_count": 36,
   "metadata": {},
   "outputs": [
    {
     "data": {
      "text/html": [
       "<table border=\"1\" class=\"dataframe\">\n",
       "    <thead>\n",
       "        <tr>\n",
       "            <th>Row Index</th> <th>Title</th> <th>Studio</th> <th>Gross</th> <th>Gross (Adjusted)</th> <th>Year</th>\n",
       "        </tr>\n",
       "    </thead>\n",
       "    <tbody>\n",
       "        <tr>\n",
       "            <td>95       </td> <td>The Hunger Games: Catching Fire</td> <td>Lionsgate           </td> <td>424,668,047</td> <td>444,697,400     </td> <td>2013</td>\n",
       "        </tr>\n",
       "        <tr>\n",
       "            <td>114      </td> <td>Shrek the Third                </td> <td>Paramount/Dreamworks</td> <td>322,719,944</td> <td>408,090,600     </td> <td>2007</td>\n",
       "        </tr>\n",
       "        <tr>\n",
       "            <td>163      </td> <td>Saturday Night Fever           </td> <td>Paramount           </td> <td>94,213,184 </td> <td>353,261,200     </td> <td>1977</td>\n",
       "        </tr>\n",
       "        <tr>\n",
       "            <td>61       </td> <td>The Passion of the Christ      </td> <td>NM                  </td> <td>370,782,930</td> <td>519,432,100     </td> <td>2004</td>\n",
       "        </tr>\n",
       "        <tr>\n",
       "            <td>190      </td> <td>The Twilight Saga: Eclipse     </td> <td>Sum.                </td> <td>300,531,751</td> <td>328,883,800     </td> <td>2010</td>\n",
       "        </tr>\n",
       "    </tbody>\n",
       "</table>"
      ],
      "text/plain": [
       "Row Index | Title                           | Studio               | Gross       | Gross (Adjusted) | Year\n",
       "95        | The Hunger Games: Catching Fire | Lionsgate            | 424,668,047 | 444,697,400      | 2013\n",
       "114       | Shrek the Third                 | Paramount/Dreamworks | 322,719,944 | 408,090,600      | 2007\n",
       "163       | Saturday Night Fever            | Paramount            | 94,213,184  | 353,261,200      | 1977\n",
       "61        | The Passion of the Christ       | NM                   | 370,782,930 | 519,432,100      | 2004\n",
       "190       | The Twilight Saga: Eclipse      | Sum.                 | 300,531,751 | 328,883,800      | 2010"
      ]
     },
     "execution_count": 36,
     "metadata": {},
     "output_type": "execute_result"
    }
   ],
   "source": [
    "top_movies.sample(5)"
   ]
  },
  {
   "cell_type": "markdown",
   "metadata": {},
   "source": [
    "Run the code cell below, then answer **Question 8.**.\n",
    "\n",
    "**Question 8.** What do you notice about the number of items in the sample? Explain."
   ]
  },
  {
   "cell_type": "code",
   "execution_count": 38,
   "metadata": {},
   "outputs": [
    {
     "data": {
      "text/html": [
       "<table border=\"1\" class=\"dataframe\">\n",
       "    <thead>\n",
       "        <tr>\n",
       "            <th>Title</th> <th>count</th>\n",
       "        </tr>\n",
       "    </thead>\n",
       "    <tbody>\n",
       "        <tr>\n",
       "            <td>101 Dalmatians            </td> <td>2    </td>\n",
       "        </tr>\n",
       "        <tr>\n",
       "            <td>2001: A Space Odyssey     </td> <td>4    </td>\n",
       "        </tr>\n",
       "        <tr>\n",
       "            <td>9 to 5                    </td> <td>3    </td>\n",
       "        </tr>\n",
       "        <tr>\n",
       "            <td>A Star Is Born (1976)     </td> <td>2    </td>\n",
       "        </tr>\n",
       "        <tr>\n",
       "            <td>Airport                   </td> <td>3    </td>\n",
       "        </tr>\n",
       "        <tr>\n",
       "            <td>Aladdin                   </td> <td>1    </td>\n",
       "        </tr>\n",
       "        <tr>\n",
       "            <td>American Graffiti         </td> <td>2    </td>\n",
       "        </tr>\n",
       "        <tr>\n",
       "            <td>American Sniper           </td> <td>1    </td>\n",
       "        </tr>\n",
       "        <tr>\n",
       "            <td>An Officer and a Gentleman</td> <td>4    </td>\n",
       "        </tr>\n",
       "        <tr>\n",
       "            <td>Apollo 13                 </td> <td>3    </td>\n",
       "        </tr>\n",
       "    </tbody>\n",
       "</table>\n",
       "<p>... (171 rows omitted)</p>"
      ],
      "text/plain": [
       "Title                      | count\n",
       "101 Dalmatians             | 2\n",
       "2001: A Space Odyssey      | 4\n",
       "9 to 5                     | 3\n",
       "A Star Is Born (1976)      | 2\n",
       "Airport                    | 3\n",
       "Aladdin                    | 1\n",
       "American Graffiti          | 2\n",
       "American Sniper            | 1\n",
       "An Officer and a Gentleman | 4\n",
       "Apollo 13                  | 3\n",
       "... (171 rows omitted)"
      ]
     },
     "execution_count": 38,
     "metadata": {},
     "output_type": "execute_result"
    }
   ],
   "source": [
    "top_movies.sample(50).group('Title')"
   ]
  },
  {
   "cell_type": "markdown",
   "metadata": {},
   "source": [
    "Run the code cell below, then answer **Question 9.**.\n",
    "\n",
    "**Question 9.** What do you notice about the number of items in the sample? Explain."
   ]
  },
  {
   "cell_type": "code",
   "execution_count": 39,
   "metadata": {},
   "outputs": [
    {
     "data": {
      "text/html": [
       "<table border=\"1\" class=\"dataframe\">\n",
       "    <thead>\n",
       "        <tr>\n",
       "            <th>Title</th> <th>count</th>\n",
       "        </tr>\n",
       "    </thead>\n",
       "    <tbody>\n",
       "        <tr>\n",
       "            <td>101 Dalmatians            </td> <td>4    </td>\n",
       "        </tr>\n",
       "        <tr>\n",
       "            <td>9 to 5                    </td> <td>3    </td>\n",
       "        </tr>\n",
       "        <tr>\n",
       "            <td>A Star Is Born (1976)     </td> <td>3    </td>\n",
       "        </tr>\n",
       "        <tr>\n",
       "            <td>Air Force One             </td> <td>2    </td>\n",
       "        </tr>\n",
       "        <tr>\n",
       "            <td>Airport                   </td> <td>5    </td>\n",
       "        </tr>\n",
       "        <tr>\n",
       "            <td>Aladdin                   </td> <td>4    </td>\n",
       "        </tr>\n",
       "        <tr>\n",
       "            <td>Alice in Wonderland (2010)</td> <td>1    </td>\n",
       "        </tr>\n",
       "        <tr>\n",
       "            <td>American Graffiti         </td> <td>1    </td>\n",
       "        </tr>\n",
       "        <tr>\n",
       "            <td>American Sniper           </td> <td>4    </td>\n",
       "        </tr>\n",
       "        <tr>\n",
       "            <td>An Officer and a Gentleman</td> <td>1    </td>\n",
       "        </tr>\n",
       "    </tbody>\n",
       "</table>\n",
       "<p>... (174 rows omitted)</p>"
      ],
      "text/plain": [
       "Title                      | count\n",
       "101 Dalmatians             | 4\n",
       "9 to 5                     | 3\n",
       "A Star Is Born (1976)      | 3\n",
       "Air Force One              | 2\n",
       "Airport                    | 5\n",
       "Aladdin                    | 4\n",
       "Alice in Wonderland (2010) | 1\n",
       "American Graffiti          | 1\n",
       "American Sniper            | 4\n",
       "An Officer and a Gentleman | 1\n",
       "... (174 rows omitted)"
      ]
     },
     "execution_count": 39,
     "metadata": {},
     "output_type": "execute_result"
    }
   ],
   "source": [
    "top_movies.sample(500).group('Title')"
   ]
  },
  {
   "cell_type": "markdown",
   "metadata": {},
   "source": [
    "If we want to specify that the sample does not include an item more than once, then we can set the `with_replacement` argument to `False`.\n",
    "\n",
    "Run the code cell below multiple times and observe what happens."
   ]
  },
  {
   "cell_type": "code",
   "execution_count": 40,
   "metadata": {},
   "outputs": [
    {
     "data": {
      "text/html": [
       "<table border=\"1\" class=\"dataframe\">\n",
       "    <thead>\n",
       "        <tr>\n",
       "            <th>Row Index</th> <th>Title</th> <th>Studio</th> <th>Gross</th> <th>Gross (Adjusted)</th> <th>Year</th>\n",
       "        </tr>\n",
       "    </thead>\n",
       "    <tbody>\n",
       "        <tr>\n",
       "            <td>48       </td> <td>Around the World in 80 Days             </td> <td>UA                  </td> <td>42,000,000 </td> <td>562,153,800     </td> <td>1956</td>\n",
       "        </tr>\n",
       "        <tr>\n",
       "            <td>7        </td> <td>Doctor Zhivago                          </td> <td>MGM                 </td> <td>111,721,910</td> <td>1,079,978,500   </td> <td>1965</td>\n",
       "        </tr>\n",
       "        <tr>\n",
       "            <td>117      </td> <td>Transformers                            </td> <td>Paramount/Dreamworks</td> <td>319,246,193</td> <td>403,697,900     </td> <td>2007</td>\n",
       "        </tr>\n",
       "        <tr>\n",
       "            <td>158      </td> <td>Guardians of the Galaxy                 </td> <td>Buena Vista (Disney)</td> <td>333,176,600</td> <td>358,244,800     </td> <td>2014</td>\n",
       "        </tr>\n",
       "        <tr>\n",
       "            <td>168      </td> <td>Harry Potter and the Prisoner of Azkaban</td> <td>Warner Bros.        </td> <td>249,541,069</td> <td>349,598,600     </td> <td>2004</td>\n",
       "        </tr>\n",
       "    </tbody>\n",
       "</table>"
      ],
      "text/plain": [
       "Row Index | Title                                    | Studio               | Gross       | Gross (Adjusted) | Year\n",
       "48        | Around the World in 80 Days              | UA                   | 42,000,000  | 562,153,800      | 1956\n",
       "7         | Doctor Zhivago                           | MGM                  | 111,721,910 | 1,079,978,500    | 1965\n",
       "117       | Transformers                             | Paramount/Dreamworks | 319,246,193 | 403,697,900      | 2007\n",
       "158       | Guardians of the Galaxy                  | Buena Vista (Disney) | 333,176,600 | 358,244,800      | 2014\n",
       "168       | Harry Potter and the Prisoner of Azkaban | Warner Bros.         | 249,541,069 | 349,598,600      | 2004"
      ]
     },
     "execution_count": 40,
     "metadata": {},
     "output_type": "execute_result"
    }
   ],
   "source": [
    "top_movies.sample(5, with_replacement = False)"
   ]
  }
 ],
 "metadata": {
  "kernelspec": {
   "display_name": "Python 3",
   "language": "python",
   "name": "python3"
  },
  "language_info": {
   "codemirror_mode": {
    "name": "ipython",
    "version": 3
   },
   "file_extension": ".py",
   "mimetype": "text/x-python",
   "name": "python",
   "nbconvert_exporter": "python",
   "pygments_lexer": "ipython3",
   "version": "3.8.5"
  }
 },
 "nbformat": 4,
 "nbformat_minor": 4
}
