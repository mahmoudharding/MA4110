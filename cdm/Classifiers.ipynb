{
 "cells": [
  {
   "cell_type": "markdown",
   "metadata": {},
   "source": [
    "# Classifiers"
   ]
  },
  {
   "cell_type": "code",
   "execution_count": null,
   "metadata": {},
   "outputs": [],
   "source": [
    "from datascience import *\n",
    "import numpy as np\n",
    "import matplotlib\n",
    "%matplotlib inline\n",
    "import matplotlib.pyplot as plots\n",
    "plots.style.use('fivethirtyeight')"
   ]
  },
  {
   "cell_type": "code",
   "execution_count": null,
   "metadata": {},
   "outputs": [],
   "source": [
    "patients = Table.read_table('breast-cancer.csv').drop('ID')\n",
    "patients"
   ]
  },
  {
   "cell_type": "markdown",
   "metadata": {},
   "source": [
    "**Row Operations**\n",
    "\n",
    "- `t.row(i)`: evaluates to `i`th row of table `t`\n",
    "- `t.row(i).item(j)`: is the value of row `i` column `j`\n",
    "- `np.array(t.row(i))`: evaluates to an array of all numbers in the row (if all the values are numerical)."
   ]
  },
  {
   "cell_type": "code",
   "execution_count": null,
   "metadata": {},
   "outputs": [],
   "source": [
    "# Row Operations"
   ]
  },
  {
   "cell_type": "code",
   "execution_count": null,
   "metadata": {},
   "outputs": [],
   "source": [
    "patients.scatter('Bland Chromatin', 'Single Epithelial Cell Size', group = 'Class')"
   ]
  },
  {
   "cell_type": "code",
   "execution_count": null,
   "metadata": {},
   "outputs": [],
   "source": [
    "def randomize_column(a):\n",
    "    return a + np.random.normal(0.0, 0.09, size = len(a))\n",
    "\n",
    "jittered = Table().with_columns([\n",
    "    'Bland Chromatin (jittered)',             randomize_column(patients.column('Bland Chromatin')),\n",
    "    'Single Epithelial Cell Size (jitterd)',  randomize_column(patients.column('Single Epithelial Cell Size')),\n",
    "    'Class',                                  patients.column('Class')\n",
    "])\n",
    "\n",
    "jittered.scatter('Bland Chromatin (jittered)', 'Single Epithelial Cell Size (jitterd)', group = 'Class')"
   ]
  },
  {
   "cell_type": "markdown",
   "metadata": {},
   "source": [
    "# Distance"
   ]
  },
  {
   "cell_type": "code",
   "execution_count": null,
   "metadata": {},
   "outputs": [],
   "source": [
    "Table().with_columns(['x', [0, 2, 3], \n",
    "                      'y', [0, 2, 4]]).scatter('x', 'y')"
   ]
  },
  {
   "cell_type": "markdown",
   "metadata": {},
   "source": [
    "**Question 1.** Write a function to calculate the distance between to points $(x_1,y_1)$ and $(x_2,y_2)$."
   ]
  },
  {
   "cell_type": "code",
   "execution_count": null,
   "metadata": {},
   "outputs": [],
   "source": [
    "# Question 1"
   ]
  },
  {
   "cell_type": "markdown",
   "metadata": {},
   "source": [
    "**Question 2.** Write a function to calculate the distance between two rows."
   ]
  },
  {
   "cell_type": "code",
   "execution_count": null,
   "metadata": {},
   "outputs": [],
   "source": [
    "# Question 2"
   ]
  },
  {
   "cell_type": "code",
   "execution_count": null,
   "metadata": {},
   "outputs": [],
   "source": [
    "attributes = patients.drop('Class')\n",
    "attributes.show(3)"
   ]
  },
  {
   "cell_type": "markdown",
   "metadata": {},
   "source": [
    "**Question 3.** Find the distance between the patient in row 0 and the patients in row 1 and in row 2. "
   ]
  },
  {
   "cell_type": "code",
   "execution_count": null,
   "metadata": {},
   "outputs": [],
   "source": [
    " # Question 3"
   ]
  },
  {
   "cell_type": "markdown",
   "metadata": {},
   "source": [
    "# Classification Procedure"
   ]
  },
  {
   "cell_type": "code",
   "execution_count": null,
   "metadata": {},
   "outputs": [],
   "source": [
    "def distances(training, example):\n",
    "    \"\"\"Compute a table with the training set and distances to the exmaple for each row in the training set.\"\"\"\n",
    "    dists = make_array()\n",
    "    attributes = training.drop('Class')\n",
    "    for row in attributes.rows:\n",
    "        d = row_distance(row, example)\n",
    "        dists = np.append(dists, d)\n",
    "    return training.with_column('Distance', dists)"
   ]
  },
  {
   "cell_type": "code",
   "execution_count": null,
   "metadata": {},
   "outputs": [],
   "source": [
    "def closest(training, example, k):\n",
    "    \"\"\"Return a table of the k closest neighbors to the example.\"\"\"\n",
    "    return distances(training, example).sort('Distance').take(np.arange(k))"
   ]
  },
  {
   "cell_type": "code",
   "execution_count": null,
   "metadata": {},
   "outputs": [],
   "source": [
    "patients.take(12)"
   ]
  },
  {
   "cell_type": "code",
   "execution_count": null,
   "metadata": {},
   "outputs": [],
   "source": [
    "example = patients.drop('Class').row(12)\n",
    "example"
   ]
  },
  {
   "cell_type": "markdown",
   "metadata": {},
   "source": [
    "**Question 4.** Find the 5 closest patients to the patient in row 12. "
   ]
  },
  {
   "cell_type": "code",
   "execution_count": null,
   "metadata": {},
   "outputs": [],
   "source": [
    "# Question 4"
   ]
  },
  {
   "cell_type": "markdown",
   "metadata": {},
   "source": [
    "**Question 5.** What do you notice about the output? Are these the 5 closest patients to patient 12? "
   ]
  },
  {
   "cell_type": "code",
   "execution_count": null,
   "metadata": {},
   "outputs": [],
   "source": [
    "# Question 5"
   ]
  },
  {
   "cell_type": "markdown",
   "metadata": {},
   "source": [
    "# Classify\n",
    "\n",
    "**Question 6.** Let's classify a patient by the $k$ nearest neighbors."
   ]
  },
  {
   "cell_type": "code",
   "execution_count": null,
   "metadata": {},
   "outputs": [],
   "source": [
    "# Question 6"
   ]
  },
  {
   "cell_type": "code",
   "execution_count": null,
   "metadata": {},
   "outputs": [],
   "source": [
    "def majority_class(neighbors):\n",
    "    \"\"\"Return the class that is the most common among all of the neighbors.\"\"\"\n",
    "    return neighbors.group('Class').sort('count', descending = True).column('Class').item(0)"
   ]
  },
  {
   "cell_type": "code",
   "execution_count": null,
   "metadata": {},
   "outputs": [],
   "source": [
    "def classify(training, example, k):\n",
    "    \"\"\"Return the majority class among the k nearest neighbors.\"\"\"\n",
    "    nearest_neighbors = closest(training, example, k)\n",
    "    return majority_class(nearest_neighbors)"
   ]
  },
  {
   "cell_type": "code",
   "execution_count": null,
   "metadata": {},
   "outputs": [],
   "source": [
    "classify(patients.exclude(12), example, 5)"
   ]
  },
  {
   "cell_type": "markdown",
   "metadata": {},
   "source": [
    "# Evaluation"
   ]
  },
  {
   "cell_type": "code",
   "execution_count": null,
   "metadata": {},
   "outputs": [],
   "source": [
    "patients.num_rows"
   ]
  },
  {
   "cell_type": "code",
   "execution_count": null,
   "metadata": {},
   "outputs": [],
   "source": [
    "shuffled = patients.sample(with_replacement = False)\n",
    "train_set = shuffled.take(range(0, 342))\n",
    "test_set = shuffled.take(range(342, 683))"
   ]
  },
  {
   "cell_type": "code",
   "execution_count": null,
   "metadata": {},
   "outputs": [],
   "source": [
    "def evaluate_accuracy(training, test, k):\n",
    "    test_attributes = test.drop('Class')\n",
    "    num_correct = 0\n",
    "    for i in range(test.num_rows):\n",
    "        \n",
    "        # Run the classifier on the ith patient in the test set\n",
    "        test_patient = test_attributes.row(i)\n",
    "        \n",
    "        # Was the classifier correct?\n",
    "        c = classify(training, test_patient, k)\n",
    "        if c == test.column('Class').item(i):\n",
    "            num_correct = num_correct + 1\n",
    "    return num_correct/test.num_rows"
   ]
  },
  {
   "cell_type": "code",
   "execution_count": null,
   "metadata": {},
   "outputs": [],
   "source": [
    "evaluate_accuracy(train_set, test_set, 5)"
   ]
  },
  {
   "cell_type": "markdown",
   "metadata": {},
   "source": [
    "# Decision Boundaries"
   ]
  },
  {
   "cell_type": "code",
   "execution_count": null,
   "metadata": {},
   "outputs": [],
   "source": [
    "ckd = Table.read_table('ckd.csv').relabeled('Blood Glucose Random', 'Glucose')\n",
    "ckd                       "
   ]
  },
  {
   "cell_type": "code",
   "execution_count": null,
   "metadata": {},
   "outputs": [],
   "source": [
    "kidney = ckd.select('Hemoglobin', 'Glucose', 'Class')\n",
    "kidney.scatter('Hemoglobin', 'Glucose', group = 'Class')\n",
    "plots.scatter(13, 250, color = 'r', s = 30);"
   ]
  },
  {
   "cell_type": "code",
   "execution_count": null,
   "metadata": {},
   "outputs": [],
   "source": [
    "def show_closest(t, point):\n",
    "    \"\"\"Show closest training exmaple to a point.\"\"\"\n",
    "    near = closest(t, point, 1).row(0)\n",
    "    t.scatter(0, 1, group = 'Class')\n",
    "    plots.scatter(point.item(0), point.item(1), color = 'r', s =30)\n",
    "    plots.plot([point.item(0), near.item(0)], [point.item(1), near.item(1)], color = 'k', lw = 2)\n",
    "    \n",
    "show_closest(kidney, make_array(13, 250))"
   ]
  },
  {
   "cell_type": "code",
   "execution_count": null,
   "metadata": {},
   "outputs": [],
   "source": [
    "def standard_units(any_numbers):\n",
    "    \"\"\"Convert any array of numbers to standard units.\"\"\"\n",
    "    return (any_numbers - np.mean(any_numbers))/np.std(any_numbers)\n",
    "\n",
    "def standardize(t):\n",
    "    \"\"\"Return a table in which all columns of t are converted to standard units.\"\"\"\n",
    "    t_su = Table()\n",
    "    for label in t.labels:\n",
    "        t_su = t_su.with_column(label + ' (su)', standard_units(t.column(label)))\n",
    "    return t_su"
   ]
  },
  {
   "cell_type": "code",
   "execution_count": null,
   "metadata": {},
   "outputs": [],
   "source": [
    "kidney_su = standardize(kidney.drop('Class')).with_column('Class', kidney.column('Class'))\n",
    "show_closest(kidney_su, make_array(-0.2, 1.8))"
   ]
  },
  {
   "cell_type": "code",
   "execution_count": null,
   "metadata": {},
   "outputs": [],
   "source": [
    "show_closest(kidney_su, make_array(-0.2, 1.3))"
   ]
  },
  {
   "cell_type": "code",
   "execution_count": null,
   "metadata": {},
   "outputs": [],
   "source": [
    "show_closest(kidney_su, make_array(-0.2, 1))"
   ]
  },
  {
   "cell_type": "code",
   "execution_count": null,
   "metadata": {},
   "outputs": [],
   "source": [
    "show_closest(kidney_su, make_array(-0.2, 0.9))"
   ]
  },
  {
   "cell_type": "code",
   "execution_count": null,
   "metadata": {},
   "outputs": [],
   "source": [
    "def decision_boundary(t, k):\n",
    "    \"\"\"Decision boundary of a two-column + Class table.\"\"\"\n",
    "    t_su = standardize(t.drop('Class')).with_column('Class', t.column('Class'))\n",
    "    decisions = Table(t_su.labels)\n",
    "    for x in np.arange(-2, 2.1, 0.1):\n",
    "        for y in np.arange(-2, 2.1, 0.1):\n",
    "            predicted = classify(t_su, make_array(x, y), k)\n",
    "            decisions.append([x, y, predicted])\n",
    "    decisions.scatter(0, 1, group = 'Class', alpha = 0.4)\n",
    "    plots.xlim(-2, 2)\n",
    "    plots.ylim(-2, 2)\n",
    "    t_su_0 = t_su.where('Class', 0)\n",
    "    t_su_1 = t_su.where('Class', 1)\n",
    "    plots.scatter(t_su_0.column(0), t_su_0.column(1), c = 'darkblue', edgecolor = 'k')\n",
    "    plots.scatter(t_su_1.column(0), t_su_1.column(1), c = 'gold', edgecolor = 'k')"
   ]
  },
  {
   "cell_type": "code",
   "execution_count": null,
   "metadata": {},
   "outputs": [],
   "source": [
    "decision_boundary(kidney, 1)"
   ]
  },
  {
   "cell_type": "code",
   "execution_count": null,
   "metadata": {},
   "outputs": [],
   "source": [
    "decision_boundary(kidney, 5)"
   ]
  },
  {
   "cell_type": "code",
   "execution_count": null,
   "metadata": {},
   "outputs": [],
   "source": [
    "decision_boundary(jittered, 1)"
   ]
  },
  {
   "cell_type": "code",
   "execution_count": null,
   "metadata": {},
   "outputs": [],
   "source": [
    "decision_boundary(jittered, 5)"
   ]
  },
  {
   "cell_type": "code",
   "execution_count": null,
   "metadata": {},
   "outputs": [],
   "source": []
  }
 ],
 "metadata": {
  "kernelspec": {
   "display_name": "Python 3",
   "language": "python",
   "name": "python3"
  },
  "language_info": {
   "codemirror_mode": {
    "name": "ipython",
    "version": 3
   },
   "file_extension": ".py",
   "mimetype": "text/x-python",
   "name": "python",
   "nbconvert_exporter": "python",
   "pygments_lexer": "ipython3",
   "version": "3.8.5"
  }
 },
 "nbformat": 4,
 "nbformat_minor": 4
}
