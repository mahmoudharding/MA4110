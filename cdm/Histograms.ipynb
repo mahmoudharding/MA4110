{
 "cells": [
  {
   "cell_type": "markdown",
   "metadata": {},
   "source": [
    "# Histograms"
   ]
  },
  {
   "cell_type": "code",
   "execution_count": 3,
   "metadata": {},
   "outputs": [],
   "source": [
    "import warnings\n",
    "warnings.filterwarnings(\"ignore\", message=\"The 'warn' parameter of\")\n",
    "\n",
    "from datascience import *\n",
    "import numpy as np\n",
    "\n",
    "%matplotlib inline\n",
    "import matplotlib.pyplot as plots\n",
    "plots.style.use('fivethirtyeight')"
   ]
  },
  {
   "cell_type": "code",
   "execution_count": 4,
   "metadata": {},
   "outputs": [
    {
     "data": {
      "text/html": [
       "<table border=\"1\" class=\"dataframe\">\n",
       "    <thead>\n",
       "        <tr>\n",
       "            <th>Title</th> <th>Studio</th> <th>Gross</th> <th>Gross (Adjusted)</th> <th>Year</th>\n",
       "        </tr>\n",
       "    </thead>\n",
       "    <tbody>\n",
       "        <tr>\n",
       "            <td>101 Dalmatians            </td> <td>Disney              </td> <td>144880014</td> <td>869280100       </td> <td>1961</td>\n",
       "        </tr>\n",
       "        <tr>\n",
       "            <td>2001: A Space Odyssey     </td> <td>MGM                 </td> <td>56954992 </td> <td>377027700       </td> <td>1968</td>\n",
       "        </tr>\n",
       "        <tr>\n",
       "            <td>9 to 5                    </td> <td>Fox                 </td> <td>103290500</td> <td>334062200       </td> <td>1980</td>\n",
       "        </tr>\n",
       "        <tr>\n",
       "            <td>A Star Is Born (1976)     </td> <td>Warner Bros.        </td> <td>80000000 </td> <td>326760600       </td> <td>1976</td>\n",
       "        </tr>\n",
       "        <tr>\n",
       "            <td>Air Force One             </td> <td>Sony                </td> <td>172956409</td> <td>327752300       </td> <td>1997</td>\n",
       "        </tr>\n",
       "        <tr>\n",
       "            <td>Airport                   </td> <td>Universal           </td> <td>100489151</td> <td>575168200       </td> <td>1970</td>\n",
       "        </tr>\n",
       "        <tr>\n",
       "            <td>Aladdin                   </td> <td>Buena Vista (Disney)</td> <td>217350219</td> <td>456248400       </td> <td>1992</td>\n",
       "        </tr>\n",
       "        <tr>\n",
       "            <td>Alice in Wonderland (2010)</td> <td>Buena Vista (Disney)</td> <td>334191110</td> <td>365718600       </td> <td>2010</td>\n",
       "        </tr>\n",
       "        <tr>\n",
       "            <td>American Graffiti         </td> <td>Universal           </td> <td>115000000</td> <td>571714300       </td> <td>1973</td>\n",
       "        </tr>\n",
       "        <tr>\n",
       "            <td>American Sniper           </td> <td>Warner Bros.        </td> <td>350126372</td> <td>374796000       </td> <td>2014</td>\n",
       "        </tr>\n",
       "    </tbody>\n",
       "</table>\n",
       "<p>... (190 rows omitted)</p>"
      ],
      "text/plain": [
       "Title                      | Studio               | Gross     | Gross (Adjusted) | Year\n",
       "101 Dalmatians             | Disney               | 144880014 | 869280100        | 1961\n",
       "2001: A Space Odyssey      | MGM                  | 56954992  | 377027700        | 1968\n",
       "9 to 5                     | Fox                  | 103290500 | 334062200        | 1980\n",
       "A Star Is Born (1976)      | Warner Bros.         | 80000000  | 326760600        | 1976\n",
       "Air Force One              | Sony                 | 172956409 | 327752300        | 1997\n",
       "Airport                    | Universal            | 100489151 | 575168200        | 1970\n",
       "Aladdin                    | Buena Vista (Disney) | 217350219 | 456248400        | 1992\n",
       "Alice in Wonderland (2010) | Buena Vista (Disney) | 334191110 | 365718600        | 2010\n",
       "American Graffiti          | Universal            | 115000000 | 571714300        | 1973\n",
       "American Sniper            | Warner Bros.         | 350126372 | 374796000        | 2014\n",
       "... (190 rows omitted)"
      ]
     },
     "execution_count": 4,
     "metadata": {},
     "output_type": "execute_result"
    }
   ],
   "source": [
    "top=Table.read_table('top_movies.csv')\n",
    "top"
   ]
  },
  {
   "cell_type": "code",
   "execution_count": null,
   "metadata": {},
   "outputs": [],
   "source": []
  }
 ],
 "metadata": {
  "kernelspec": {
   "display_name": "Python 3",
   "language": "python",
   "name": "python3"
  },
  "language_info": {
   "codemirror_mode": {
    "name": "ipython",
    "version": 3
   },
   "file_extension": ".py",
   "mimetype": "text/x-python",
   "name": "python",
   "nbconvert_exporter": "python",
   "pygments_lexer": "ipython3",
   "version": "3.8.5"
  }
 },
 "nbformat": 4,
 "nbformat_minor": 4
}
